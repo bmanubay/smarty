{
 "cells": [
  {
   "cell_type": "code",
   "execution_count": 83,
   "metadata": {
    "collapsed": false
   },
   "outputs": [],
   "source": [
    "import imp\n",
    "environment = imp.load_source('environment','../../smarty/environment.py')"
   ]
  },
  {
   "cell_type": "markdown",
   "metadata": {},
   "source": [
    "### Initialize Each Environment type\n",
    "\n",
    "* Atom\n",
    "* Bond\n",
    "* Angle\n",
    "* Torsion\n",
    "* Improper \n"
   ]
  },
  {
   "cell_type": "code",
   "execution_count": 84,
   "metadata": {
    "collapsed": false,
    "scrolled": true
   },
   "outputs": [
    {
     "name": "stdout",
     "output_type": "stream",
     "text": [
      "      atom: [*:1]\n",
      "      bond: [*:2]~[*:1]\n",
      "     angle: [*:2](~[*:3])~[*:1]\n",
      "   torsion: [*:3](~[*:2]~[*:1])~[*:4]\n",
      "  improper: [*:4]~[*:2](~[*:1])~[*:3]\n"
     ]
    }
   ],
   "source": [
    "atomEnv = environment.AtomChemicalEnvironment()\n",
    "bondEnv = environment.BondChemicalEnvironment()\n",
    "angleEnv = environment.AngleChemicalEnvironment()\n",
    "torsionEnv = environment.TorsionChemicalEnvironment()\n",
    "impropEnv = environment.ImproperChemicalEnvironment()\n",
    "\n",
    "EnvList = [atomEnv, bondEnv, angleEnv, torsionEnv, impropEnv]\n",
    "names = ['atom','bond','angle','torsion','improper']\n",
    "\n",
    "for idx, Env in enumerate(EnvList):\n",
    "    print(\"%10s: %s\" % (names[idx], Env.asSMIRKS()))"
   ]
  },
  {
   "cell_type": "markdown",
   "metadata": {
    "collapsed": true
   },
   "source": [
    "### Add descriptions to atoms\n",
    "\n",
    "You can add descriptive features to atoms, you can chose between\n",
    "\n",
    "* `bases` (thing that are OR'd together) or \n",
    "* `decorators` (things that are AND'd together) \n",
    "\n",
    "Here we'll use torsionEnv as an example since it has more random bonds and atoms to chose between"
   ]
  },
  {
   "cell_type": "code",
   "execution_count": 85,
   "metadata": {
    "collapsed": false
   },
   "outputs": [
    {
     "name": "stdout",
     "output_type": "stream",
     "text": [
      "initially:  [*:3](~[*:2]~[*:1])~[*:4]\n",
      "chose atom [*:4]\n",
      "[*:3](~[*:2]~[*:1])~[#1:4] torsion after adding '#1' to atom base\n",
      "[*:3](~[*:2]~[*:1])~[#1;H0:4] torsion after adding 'H0' to atom decorators\n"
     ]
    }
   ],
   "source": [
    "# create new torsion:\n",
    "torsionEnv = environment.TorsionChemicalEnvironment()\n",
    "\n",
    "# Select and atom\n",
    "pickAtom = torsionEnv.selectAtom()\n",
    "print \"initially: \", torsionEnv.asSMIRKS()\n",
    "print \"chose atom\", pickAtom.asSMIRKS()\n",
    "\n",
    "pickAtom.addBase('#1')\n",
    "print torsionEnv.asSMIRKS(), \"torsion after adding '#1' to atom base\" \n",
    "\n",
    "pickAtom.addDecorator('H0')\n",
    "print torsionEnv.asSMIRKS(), \"torsion after adding 'H0' to atom decorators\""
   ]
  },
  {
   "cell_type": "markdown",
   "metadata": {},
   "source": [
    "### Add same descriptions to bonds\n",
    "\n",
    "Bonds have the same properties\n",
    "bonds however are defined by the atoms they connect so when selecting a bond you get three items\n",
    "\n",
    "* atom1 (atom on one end of bond)\n",
    "* atom2 (atom on the otehr end of the bond)\n",
    "* bond (bond object)\n"
   ]
  },
  {
   "cell_type": "code",
   "execution_count": 86,
   "metadata": {
    "collapsed": false
   },
   "outputs": [
    {
     "name": "stdout",
     "output_type": "stream",
     "text": [
      "initially:  [*:4]~[*:3]~[*:2]~[*:1]\n",
      "chose bond connecting [*:1] ~ [*:2]\n",
      "[*:4]~[*:3]~[*:2]-[*:1] torsion after adding '-' to bond base\n",
      "[*:4]~[*:3]~[*:2]-;@[*:1] torsion after adding '@' to bond decorators\n"
     ]
    }
   ],
   "source": [
    "# create new torsion\n",
    "torsionEnv = environment.TorsionChemicalEnvironment()\n",
    "\n",
    "# pick a bond\n",
    "atom1, atom2, pickBond = torsionEnv.selectBond()\n",
    "\n",
    "print \"initially: \", torsionEnv.asSMIRKS()\n",
    "print \"chose bond connecting %s %s %s\" % (atom1.asSMIRKS(), pickBond.asSMARTS(), atom2.asSMIRKS())\n",
    "\n",
    "pickBond.addBase('-')\n",
    "print torsionEnv.asSMIRKS(), \"torsion after adding '-' to bond base\" \n",
    "\n",
    "pickBond.addDecorator('@')\n",
    "print torsionEnv.asSMIRKS(), \"torsion after adding '@' to bond decorators\"\n",
    "# Note now the bond between 1 and 2 is - instead of ~"
   ]
  },
  {
   "cell_type": "markdown",
   "metadata": {
    "collapsed": true
   },
   "source": [
    "### Add a new atom \n",
    "\n",
    "Specify an atom to attach a new atom. \n",
    "You can provide descriptors \n",
    "(bases that are or'd together or decorators that are and'd to the end) \n",
    "for the atom and/or bond or leave them empty. \n",
    "\n",
    "The bases and decorators should be lists of strings, \n",
    "either way they will be used to create the new Atom and new Bond objects.\n",
    "\n",
    "The `addAtom` method returns the created atom."
   ]
  },
  {
   "cell_type": "code",
   "execution_count": 87,
   "metadata": {
    "collapsed": false
   },
   "outputs": [
    {
     "name": "stdout",
     "output_type": "stream",
     "text": [
      "Bond to atom [*:1]\n",
      "New atom ([#6;a]) in torsion [*:2](~[*:3]~[*:4])~[*:1]:[#6;a]\n"
     ]
    }
   ],
   "source": [
    "# create new torsion\n",
    "torsionEnv = environment.TorsionChemicalEnvironment()\n",
    "\n",
    "bondToAtom = torsionEnv.selectAtom()\n",
    "print(\"Bond to atom %s\" % bondToAtom.asSMIRKS())\n",
    "\n",
    "atomBases = ['#6']\n",
    "atomDecorators = ['a']\n",
    "bondBases = [':']\n",
    "bondDecorators = None\n",
    "\n",
    "# addAtom(self, bondToAtom, bondBases=None, bondDecorators=None, newBases=None, newDecorators=None, newAtomIndex=None)\n",
    "newAtom = torsionEnv.addAtom(bondToAtom, bondBases, bondDecorators, atomBases, atomDecorators, None)\n",
    "print(\"New atom (%s) in torsion %s\" % (newAtom.asSMIRKS(), torsionEnv.asSMIRKS()))"
   ]
  },
  {
   "cell_type": "markdown",
   "metadata": {},
   "source": [
    "### Remove an atom\n",
    "\n",
    "Removing an atom removes the specified atom if it meets the conditions. There are three possible outcomes. \n",
    "\n",
    "* The specified atom is a labeled atom so it cannot be removed\n",
    "* The specified atom connectes two other atoms so it cannot be removed\n",
    "* The specified atom is removed\n",
    "\n",
    "Below are examples for each of these scenarios with a Bond type environment"
   ]
  },
  {
   "cell_type": "code",
   "execution_count": 88,
   "metadata": {
    "collapsed": false
   },
   "outputs": [
    {
     "name": "stdout",
     "output_type": "stream",
     "text": [
      "Cannont remove labeled atom [*:1]\n"
     ]
    }
   ],
   "source": [
    "bondEnv = environment.BondChemicalEnvironment()\n",
    "# atom1 is the first first atom in the bond\n",
    "bondEnv.removeAtom(bondEnv.atom1)"
   ]
  },
  {
   "cell_type": "code",
   "execution_count": 89,
   "metadata": {
    "collapsed": false
   },
   "outputs": [
    {
     "name": "stdout",
     "output_type": "stream",
     "text": [
      "[#8]~[#6]~[*:1]~[*:2]\n",
      "Cannot remove atom [#6] because it connects two atoms\n",
      "[#6]~[*:1]~[*:2]\n"
     ]
    }
   ],
   "source": [
    "bondEnv = environment.BondChemicalEnvironment()\n",
    "newAtom1 = bondEnv.addAtom(bondEnv.atom1, None, None, ['#6'], None)\n",
    "newAtom2 = bondEnv.addAtom(newAtom1, None, None, ['#8'], None)\n",
    "print bondEnv.asSMIRKS()\n",
    "\n",
    "# Try removing atom 1\n",
    "bondEnv.removeAtom(newAtom1)\n",
    "\n",
    "# Remove atom 2, show new SMIRKS\n",
    "bondEnv.removeAtom(newAtom2)\n",
    "print bondEnv.asSMIRKS()"
   ]
  },
  {
   "cell_type": "markdown",
   "metadata": {
    "collapsed": true
   },
   "source": [
    "### AsSMARTS\n",
    "\n",
    "This will be especially helpful for comparing this tool with our string manipulations for smarty with atom types\n",
    "It returns the SMARTS string for atom1 as a single atom. \n",
    "This will allow us to use the same comparisons we are using now in testing the chemical environment tool\n"
   ]
  },
  {
   "cell_type": "code",
   "execution_count": 95,
   "metadata": {
    "collapsed": false
   },
   "outputs": [
    {
     "name": "stdout",
     "output_type": "stream",
     "text": [
      "[#1]\n",
      "[#1$(*-[#6])]\n",
      "[#1$(*-[#6](-[#8])(-[#8])-[#8])]\n"
     ]
    }
   ],
   "source": [
    "# create atom\n",
    "atomEnv = environment.AtomChemicalEnvironment(['#1'])\n",
    "print atomEnv.asSMARTS()\n",
    "carbon = atomEnv.addAtom(atomEnv.atom1, '-', None, ['#6'])\n",
    "print atomEnv.asSMARTS()\n",
    "oxygen1 = atomEnv.addAtom(carbon, '-', None, ['#8'])\n",
    "oxygen2 = atomEnv.addAtom(carbon, '-', None, ['#8'])\n",
    "oxygen3 = atomEnv.addAtom(carbon, '-', None, ['#8'])\n",
    "print atomEnv.asSMARTS()"
   ]
  },
  {
   "cell_type": "code",
   "execution_count": null,
   "metadata": {
    "collapsed": true
   },
   "outputs": [],
   "source": []
  }
 ],
 "metadata": {
  "kernelspec": {
   "display_name": "Python 2",
   "language": "python",
   "name": "python2"
  },
  "language_info": {
   "codemirror_mode": {
    "name": "ipython",
    "version": 2
   },
   "file_extension": ".py",
   "mimetype": "text/x-python",
   "name": "python",
   "nbconvert_exporter": "python",
   "pygments_lexer": "ipython2",
   "version": "2.7.10"
  }
 },
 "nbformat": 4,
 "nbformat_minor": 0
}
