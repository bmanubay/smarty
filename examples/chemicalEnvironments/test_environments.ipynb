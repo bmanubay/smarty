{
 "cells": [
  {
   "cell_type": "code",
   "execution_count": 30,
   "metadata": {
    "collapsed": false
   },
   "outputs": [],
   "source": [
    "import imp\n",
    "environment = imp.load_source('environment','../../smarty/environment.py')"
   ]
  },
  {
   "cell_type": "markdown",
   "metadata": {},
   "source": [
    "### Initialize Each Environment type\n",
    "\n",
    "* Atom\n",
    "* Bond\n",
    "* Angle\n",
    "* Torsion\n",
    "* Improper \n"
   ]
  },
  {
   "cell_type": "code",
   "execution_count": 36,
   "metadata": {
    "collapsed": false,
    "scrolled": true
   },
   "outputs": [
    {
     "name": "stdout",
     "output_type": "stream",
     "text": [
      "      atom: [*:1]\n",
      "      bond: [*:1]~[*:2]\n",
      "     angle: [*:2](~[*:1])~[*:3]\n",
      "   torsion: [*:2](~[*:3]~[*:4])~[*:1]\n",
      "  improper: [*:3]~[*:2](~[*:1])~[*:4]\n"
     ]
    }
   ],
   "source": [
    "atomEnv = environment.AtomChemicalEnvironment()\n",
    "bondEnv = environment.BondChemicalEnvironment()\n",
    "angleEnv = environment.AngleChemicalEnvironment()\n",
    "torsionEnv = environment.TorsionChemicalEnvironment()\n",
    "impropEnv = environment.ImproperChemicalEnvironment()\n",
    "\n",
    "EnvList = [atomEnv, bondEnv, angleEnv, torsionEnv, impropEnv]\n",
    "names = ['atom','bond','angle','torsion','improper']\n",
    "\n",
    "for idx, Env in enumerate(EnvList):\n",
    "    print(\"%10s: %s\" % (names[idx], Env.asSMIRKS()))"
   ]
  },
  {
   "cell_type": "markdown",
   "metadata": {
    "collapsed": true
   },
   "source": [
    "### Add descriptions to atoms\n",
    "\n",
    "You can add descriptive features to atoms, you can chose between\n",
    "\n",
    "* `bases` (thing that are OR'd together) or \n",
    "* `decorators` (things that are AND'd together) \n",
    "\n",
    "Here we'll use torsionEnv as an example since it has more random bonds and atoms to chose between"
   ]
  },
  {
   "cell_type": "code",
   "execution_count": 37,
   "metadata": {
    "collapsed": false
   },
   "outputs": [
    {
     "name": "stdout",
     "output_type": "stream",
     "text": [
      "initially:  [*:2](~[*:3]~[*:4])~[*:1]\n",
      "chose atom [*:2]\n",
      "[#1:2](~[*:3]~[*:4])~[*:1] torsion after adding '#1' to atom base\n",
      "[#1;H0:2](~[*:3]~[*:4])~[*:1] torsion after adding 'H0' to atom decorators\n"
     ]
    }
   ],
   "source": [
    "# create new torsion:\n",
    "torsionEnv = environment.TorsionChemicalEnvironment()\n",
    "\n",
    "# Select and atom\n",
    "pickAtom = torsionEnv.selectAtom()\n",
    "print \"initially: \", torsionEnv.asSMIRKS()\n",
    "print \"chose atom\", pickAtom.asSMIRKS()\n",
    "\n",
    "pickAtom.addBase('#1')\n",
    "print torsionEnv.asSMIRKS(), \"torsion after adding '#1' to atom base\" \n",
    "\n",
    "pickAtom.addDecorator('H0')\n",
    "print torsionEnv.asSMIRKS(), \"torsion after adding 'H0' to atom decorators\""
   ]
  },
  {
   "cell_type": "markdown",
   "metadata": {},
   "source": [
    "### Add same descriptions to bonds\n",
    "\n",
    "Bonds have the same properties\n",
    "bonds however are defined by the atoms they connect so when selecting a bond you get three items\n",
    "\n",
    "* atom1 (atom on one end of bond)\n",
    "* atom2 (atom on the otehr end of the bond)\n",
    "* bond (bond object)\n"
   ]
  },
  {
   "cell_type": "code",
   "execution_count": 40,
   "metadata": {
    "collapsed": false
   },
   "outputs": [
    {
     "name": "stdout",
     "output_type": "stream",
     "text": [
      "initially:  [*:1]~[*:2]~[*:3]~[*:4]\n",
      "chose bond connecting [*:3] ~ [*:4]\n",
      "[*:1]~[*:2]~[*:3]-[*:4] torsion after adding '-' to bond base\n",
      "[*:1]~[*:2]~[*:3]-[*:4] torsion after adding '@' to bond decorators\n"
     ]
    }
   ],
   "source": [
    "# create new torsion\n",
    "torsionEnv = environment.TorsionChemicalEnvironment()\n",
    "\n",
    "# pick a bond\n",
    "atom1, atom2, pickBond = torsionEnv.selectBond()\n",
    "\n",
    "print \"initially: \", torsionEnv.asSMIRKS()\n",
    "print \"chose bond connecting %s %s %s\" % (atom1.asSMIRKS(), pickBond.asSMARTS(), atom2.asSMIRKS())\n",
    "\n",
    "pickBond.addBase('-')\n",
    "print torsionEnv.asSMIRKS(), \"torsion after adding '-' to bond base\" \n",
    "\n",
    "pickAtom.addDecorator('@')\n",
    "print torsionEnv.asSMIRKS(), \"torsion after adding '@' to bond decorators\"\n",
    "# Note now the bond between 1 and 2 is - instead of ~"
   ]
  },
  {
   "cell_type": "code",
   "execution_count": null,
   "metadata": {
    "collapsed": true
   },
   "outputs": [],
   "source": []
  }
 ],
 "metadata": {
  "kernelspec": {
   "display_name": "Python 2",
   "language": "python",
   "name": "python2"
  },
  "language_info": {
   "codemirror_mode": {
    "name": "ipython",
    "version": 2
   },
   "file_extension": ".py",
   "mimetype": "text/x-python",
   "name": "python",
   "nbconvert_exporter": "python",
   "pygments_lexer": "ipython2",
   "version": "2.7.10"
  }
 },
 "nbformat": 4,
 "nbformat_minor": 0
}
