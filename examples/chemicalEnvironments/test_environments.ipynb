{
 "cells": [
  {
   "cell_type": "code",
   "execution_count": 10,
   "metadata": {
    "collapsed": false
   },
   "outputs": [],
   "source": [
    "import imp\n",
    "environment = imp.load_source('environment','../../smarty/environment.py')"
   ]
  },
  {
   "cell_type": "markdown",
   "metadata": {},
   "source": [
    "### Initialize Each Environment type\n",
    "\n",
    "* Atom\n",
    "* Bond\n",
    "* Angle\n",
    "* Torsion\n",
    "* Improper \n"
   ]
  },
  {
   "cell_type": "code",
   "execution_count": 11,
   "metadata": {
    "collapsed": false,
    "scrolled": true
   },
   "outputs": [
    {
     "name": "stdout",
     "output_type": "stream",
     "text": [
      "      atom: [*:1]\n",
      "      bond: [*:1]~[*:2]\n",
      "     angle: [*:1]~[*:2]~[*:3]\n",
      "   torsion: [*:1]~[*:2]~[*:3]~[*:4]\n",
      "  improper: [*:1]~[*:2](~[*:4])~[*:3]\n"
     ]
    }
   ],
   "source": [
    "atomEnv = environment.AtomChemicalEnvironment()\n",
    "bondEnv = environment.BondChemicalEnvironment()\n",
    "angleEnv = environment.AngleChemicalEnvironment()\n",
    "torsionEnv = environment.TorsionChemicalEnvironment()\n",
    "impropEnv = environment.ImproperChemicalEnvironment()\n",
    "\n",
    "EnvList = [atomEnv, bondEnv, angleEnv, torsionEnv, impropEnv]\n",
    "names = ['atom','bond','angle','torsion','improper']\n",
    "\n",
    "for idx, Env in enumerate(EnvList):\n",
    "    print(\"%10s: %s\" % (names[idx], Env.asSMIRKS(Env.atom1)))"
   ]
  },
  {
   "cell_type": "markdown",
   "metadata": {
    "collapsed": true
   },
   "source": [
    "### Add descriptions to atoms\n",
    "\n",
    "You can add descriptive features to atoms, you can chose between\n",
    "\n",
    "* `bases` (thing that are OR'd together) or \n",
    "* `decorators` (things that are AND'd together) \n",
    "\n",
    "Here we'll use torsionEnv as an example since it has more random bonds and atoms to chose between"
   ]
  },
  {
   "cell_type": "code",
   "execution_count": 12,
   "metadata": {
    "collapsed": false
   },
   "outputs": [
    {
     "name": "stdout",
     "output_type": "stream",
     "text": [
      "initially:  [*:3](~[*:4])~[*:2]~[*:1]\n",
      "chose atom [*:4]\n",
      "[*:3](~[#1:4])~[*:2]~[*:1] torsion after adding '#1' to atom base\n",
      "[*:3](~[#1;H0:4])~[*:2]~[*:1] torsion after adding 'H0' to atom decorators\n"
     ]
    }
   ],
   "source": [
    "# create new torsion:\n",
    "torsionEnv = environment.TorsionChemicalEnvironment()\n",
    "\n",
    "# Select and atom\n",
    "pickAtom = torsionEnv.selectAtom()\n",
    "print \"initially: \", torsionEnv.asSMIRKS()\n",
    "print \"chose atom\", pickAtom.asSMIRKS()\n",
    "\n",
    "pickAtom.addBase('#1')\n",
    "print torsionEnv.asSMIRKS(), \"torsion after adding '#1' to atom base\" \n",
    "\n",
    "pickAtom.addDecorator('H0')\n",
    "print torsionEnv.asSMIRKS(), \"torsion after adding 'H0' to atom decorators\""
   ]
  },
  {
   "cell_type": "markdown",
   "metadata": {},
   "source": [
    "### Add same descriptions to bonds\n",
    "\n",
    "Bonds have the same properties\n",
    "bonds however are defined by the atoms they connect so when selecting a bond you get three items\n",
    "\n",
    "* atom1 (atom on one end of bond)\n",
    "* atom2 (atom on the otehr end of the bond)\n",
    "* bond (bond object)\n"
   ]
  },
  {
   "cell_type": "code",
   "execution_count": 13,
   "metadata": {
    "collapsed": false
   },
   "outputs": [
    {
     "name": "stdout",
     "output_type": "stream",
     "text": [
      "initially:  [*:3](~[*:4])~[*:2]~[*:1]\n",
      "chose bond connecting [*:4] ~ [*:3]\n",
      "[*:3](-[*:4])~[*:2]~[*:1] torsion after adding '-' to bond base\n",
      "[*:3](-;@[*:4])~[*:2]~[*:1] torsion after adding '@' to bond decorators\n"
     ]
    }
   ],
   "source": [
    "# create new torsion\n",
    "torsionEnv = environment.TorsionChemicalEnvironment()\n",
    "\n",
    "# pick a bond\n",
    "atom1, atom2, pickBond = torsionEnv.selectBond()\n",
    "\n",
    "print \"initially: \", torsionEnv.asSMIRKS()\n",
    "print \"chose bond connecting %s %s %s\" % (atom1.asSMIRKS(), pickBond.asSMARTS(), atom2.asSMIRKS())\n",
    "\n",
    "pickBond.addBase('-')\n",
    "print torsionEnv.asSMIRKS(), \"torsion after adding '-' to bond base\" \n",
    "\n",
    "pickBond.addDecorator('@')\n",
    "print torsionEnv.asSMIRKS(), \"torsion after adding '@' to bond decorators\"\n",
    "# Note now the bond between 1 and 2 is - instead of ~"
   ]
  },
  {
   "cell_type": "markdown",
   "metadata": {
    "collapsed": true
   },
   "source": [
    "### Add a new atom \n",
    "\n",
    "Specify an atom to attach a new atom. \n",
    "You can provide descriptors \n",
    "(bases that are or'd together or decorators that are and'd to the end) \n",
    "for the atom and/or bond or leave them empty. \n",
    "\n",
    "The bases and decorators should be lists of strings, \n",
    "either way they will be used to create the new Atom and new Bond objects.\n",
    "\n",
    "The `addAtom` method returns the created atom."
   ]
  },
  {
   "cell_type": "code",
   "execution_count": 14,
   "metadata": {
    "collapsed": false
   },
   "outputs": [
    {
     "name": "stdout",
     "output_type": "stream",
     "text": [
      "Bond to atom [*:1]\n",
      "New atom ([#6;a]) in torsion [*:1](~[*:2]~[*:3]~[*:4]):[#6;a]\n"
     ]
    }
   ],
   "source": [
    "# create new torsion\n",
    "torsionEnv = environment.TorsionChemicalEnvironment()\n",
    "\n",
    "bondToAtom = torsionEnv.selectAtom()\n",
    "print(\"Bond to atom %s\" % bondToAtom.asSMIRKS())\n",
    "\n",
    "atomBases = ['#6']\n",
    "atomDecorators = ['a']\n",
    "bondBases = [':']\n",
    "bondDecorators = None\n",
    "\n",
    "# addAtom(self, bondToAtom, bondBases=None, bondDecorators=None, newBases=None, newDecorators=None, newAtomIndex=None)\n",
    "newAtom = torsionEnv.addAtom(bondToAtom, bondBases, bondDecorators, atomBases, atomDecorators, None)\n",
    "print(\"New atom (%s) in torsion %s\" % (newAtom.asSMIRKS(), torsionEnv.asSMIRKS()))"
   ]
  },
  {
   "cell_type": "markdown",
   "metadata": {},
   "source": [
    "### Remove an atom\n",
    "\n",
    "Removing an atom removes the specified atom if it meets the conditions. There are three possible outcomes. \n",
    "\n",
    "* The specified atom is a labeled atom so it cannot be removed\n",
    "* The specified atom connectes two other atoms so it cannot be removed\n",
    "* The specified atom is removed\n",
    "\n",
    "Below are examples for each of these scenarios with a Bond type environment"
   ]
  },
  {
   "cell_type": "code",
   "execution_count": 15,
   "metadata": {
    "collapsed": false
   },
   "outputs": [
    {
     "name": "stdout",
     "output_type": "stream",
     "text": [
      "Cannot remove labeled atom [*:1]\n"
     ]
    },
    {
     "data": {
      "text/plain": [
       "False"
      ]
     },
     "execution_count": 15,
     "metadata": {},
     "output_type": "execute_result"
    }
   ],
   "source": [
    "bondEnv = environment.BondChemicalEnvironment()\n",
    "# atom1 is the first first atom in the bond\n",
    "bondEnv.removeAtom(bondEnv.atom1)"
   ]
  },
  {
   "cell_type": "code",
   "execution_count": 16,
   "metadata": {
    "collapsed": false
   },
   "outputs": [
    {
     "name": "stdout",
     "output_type": "stream",
     "text": [
      "[#8]~[#6]~[*:1]~[*:2]\n",
      "Cannot remove atom [#6] because it connects two atoms\n",
      "[*:1](~[*:2])~[#6]\n"
     ]
    }
   ],
   "source": [
    "bondEnv = environment.BondChemicalEnvironment()\n",
    "newAtom1 = bondEnv.addAtom(bondEnv.atom1, None, None, ['#6'], None)\n",
    "newAtom2 = bondEnv.addAtom(newAtom1, None, None, ['#8'], None)\n",
    "print bondEnv.asSMIRKS()\n",
    "\n",
    "# Try removing atom 1\n",
    "bondEnv.removeAtom(newAtom1)\n",
    "\n",
    "# Remove atom 2, show new SMIRKS\n",
    "bondEnv.removeAtom(newAtom2)\n",
    "print bondEnv.asSMIRKS()"
   ]
  },
  {
   "cell_type": "markdown",
   "metadata": {
    "collapsed": true
   },
   "source": [
    "### AsSMARTS\n",
    "\n",
    "This will be especially helpful for comparing this tool with our string manipulations for smarty with atom types\n",
    "It returns the SMARTS string for atom1 as a single atom. \n",
    "This will allow us to use the same comparisons we are using now in testing the chemical environment tool\n"
   ]
  },
  {
   "cell_type": "code",
   "execution_count": 17,
   "metadata": {
    "collapsed": false
   },
   "outputs": [
    {
     "name": "stdout",
     "output_type": "stream",
     "text": [
      "[#1]\n",
      "[#1$(*-[#6])]\n",
      "[#1$(*-[#6](-[#8])(-[#8])-[#8])]\n"
     ]
    }
   ],
   "source": [
    "# create atom\n",
    "atomEnv = environment.AtomChemicalEnvironment([['#1'],None])\n",
    "print atomEnv.asSMARTS()\n",
    "carbon = atomEnv.addAtom(atomEnv.atom1, '-', None, ['#6'])\n",
    "print atomEnv.asSMARTS()\n",
    "oxygen1 = atomEnv.addAtom(carbon, '-', None, ['#8'])\n",
    "oxygen2 = atomEnv.addAtom(carbon, '-', None, ['#8'])\n",
    "oxygen3 = atomEnv.addAtom(carbon, '-', None, ['#8'])\n",
    "print atomEnv.asSMARTS()"
   ]
  },
  {
   "cell_type": "markdown",
   "metadata": {
    "collapsed": false
   },
   "source": [
    "### Initialize a torsion with decorated atoms\n",
    "\n",
    "Here is the documentation for initializing a torsion:\n",
    "```\n",
    "__init__(self, Atom1Info=[None, None], Bond1Info=[None, None], Atom2Info=[None, None], Bond2Info=[None, None], Atom3Info=[None, None], Bond3Info=[None, None], Atom4Info=[None, None])\n",
    "\n",
    "    Initialize a chemical environment corresponding to matching four atoms (torsion).\n",
    "      \n",
    "    Parameters\n",
    "    -----------\n",
    "    Atom1Info, Atom2Info, Atom3Info, Atom4Info: list of sets, optional\n",
    "        Comes in the form [AtomBases, AtomDecors]\n",
    "        AtomBases: descriptors for the first atom that are connected with logical operation OR\n",
    "        AtomDecors: descriptors for the first atom that are connected with the logical operation AND\n",
    "    Bond1Info and Bond2Info, Bond3Info: list of sets, optional\n",
    "        In the form [BondBases, BondDecors] similar to atom information\n",
    "   \n",
    "    For example:\n",
    "        # Create a torsion centered around two tetravalent carbons with single ring bonds\n",
    "        CarbonInfo = [['#6'], ['X4']\n",
    "        BondInfo = [['-'], ['@']]\n",
    "        torsion = TorsionChemicalEnvironment(Atom2Info = CarbonInfo, Bond2Info = BondInfo, Atom3Info = CarbonInfo)\n",
    "        print torsion.asSMIRKS()\n",
    "        # \"[*:1]~[#6X4:2]-;@[#6X4:3]~[*:4]\"\n",
    "```\n",
    "\n",
    "You can think of this as the order of atoms and bonds in a torsion \n",
    "\n",
    "Atom1 -(bond1)- Atom2 -(bond2)- Atom3 -(bond3)- Atom4\n",
    "\n",
    "In this case I will make the torsion centered on a carbon/carbon double bond with a hydrogen on one end and a tetravalent carbon on the other. \n"
   ]
  },
  {
   "cell_type": "code",
   "execution_count": 18,
   "metadata": {
    "collapsed": false
   },
   "outputs": [
    {
     "name": "stdout",
     "output_type": "stream",
     "text": [
      "[#6;X3:3](-[#6;X4:4])=[#6;X3:2]-[#1:1]\n"
     ]
    }
   ],
   "source": [
    "# define atoms for torsion\n",
    "hydrogen = [['#1'],None]\n",
    "triC = [['#6'], ['X3']]\n",
    "tetraC = [['#6'], ['X4']]\n",
    "\n",
    "#define bonds for torsion\n",
    "singlebond = [['-'],None]\n",
    "doublebond = [['='], None]\n",
    "\n",
    "# initiate torsion\n",
    "torsion = environment.TorsionChemicalEnvironment(hydrogen, singlebond, triC, doublebond, triC, singlebond, tetraC)\n",
    "\n",
    "print torsion.asSMIRKS()"
   ]
  },
  {
   "cell_type": "code",
   "execution_count": 19,
   "metadata": {
    "collapsed": false
   },
   "outputs": [
    {
     "name": "stdout",
     "output_type": "stream",
     "text": [
      "Help on class TorsionChemicalEnvironment in module environment:\n",
      "\n",
      "class TorsionChemicalEnvironment(AngleChemicalEnvironment)\n",
      " |  Chemical environment matching four marked atoms (torsion).\n",
      " |  \n",
      " |  Method resolution order:\n",
      " |      TorsionChemicalEnvironment\n",
      " |      AngleChemicalEnvironment\n",
      " |      BondChemicalEnvironment\n",
      " |      AtomChemicalEnvironment\n",
      " |      ChemicalEnvironment\n",
      " |      __builtin__.object\n",
      " |  \n",
      " |  Methods defined here:\n",
      " |  \n",
      " |  __init__(self, Atom1Info=[None, None], Bond1Info=[None, None], Atom2Info=[None, None], Bond2Info=[None, None], Atom3Info=[None, None], Bond3Info=[None, None], Atom4Info=[None, None])\n",
      " |      Initialize a chemical environment corresponding to matching four atoms (torsion).\n",
      " |      \n",
      " |      Parameters\n",
      " |      -----------\n",
      " |      Atom1Info, Atom2Info, Atom3Info, Atom4Info: list of sets, optional\n",
      " |          Comes in the form [AtomBases, AtomDecors]\n",
      " |          AtomBases: descriptors for the first atom that are connected with logical operation OR\n",
      " |          AtomDecors: descriptors for the first atom that are connected with the logical operation AND\n",
      " |      Bond1Info and Bond2Info, Bond3Info: list of sets, optional\n",
      " |          In the form [BondBases, BondDecors] similar to atom information\n",
      " |      \n",
      " |      For example:\n",
      " |          # Create a torsion centered around two tetravalent carbons with single ring bonds\n",
      " |          CarbonInfo = [['#6'], ['X4']\n",
      " |          BondInfo = [['-'], ['@']]\n",
      " |          torsion = TorsionChemicalEnvironment(Atom2Info = CarbonInfo, Bond2Info = BondInfo, Atom3Info = CarbonInfo)\n",
      " |          print torsion.asSMIRKS()\n",
      " |          # \"[*:1]~[#6X4:2]-;@[#6X4:3]~[*:4]\"\n",
      " |  \n",
      " |  ----------------------------------------------------------------------\n",
      " |  Methods inherited from AtomChemicalEnvironment:\n",
      " |  \n",
      " |  asSMARTS(self)\n",
      " |      Makes SMARTS string for one atom\n",
      " |      \n",
      " |      Returns\n",
      " |      --------\n",
      " |      string for the SMARTS string for the first atom (labeled with index :1)\n",
      " |      \n",
      " |      This is a single atom with neighbors as decorators in the form:\n",
      " |      [atom1$(*~neighbor1)$(*~neighbor2)...]\n",
      " |  \n",
      " |  ----------------------------------------------------------------------\n",
      " |  Methods inherited from ChemicalEnvironment:\n",
      " |  \n",
      " |  addAtom(self, bondToAtom, bondBases=None, bondDecorators=None, newBases=None, newDecorators=None, newAtomIndex=None)\n",
      " |      Add an atom to the specified target atom.\n",
      " |      \n",
      " |      Parameters\n",
      " |      -----------\n",
      " |      bondToAtom: atom object, required\n",
      " |          atom the new atom will be bound to\n",
      " |      bondBases: set of strings, optional\n",
      " |          strings that will be used for the bases (OR set) for the new bond\n",
      " |      bondDecorators: set of strings, optional\n",
      " |          strings that will be used for the decorators (AND set) for the new bond\n",
      " |      newBases: set of strings, optional\n",
      " |          strings that will be used for the bases (OR set) for the new atom\n",
      " |      newDecorators: set of strings, optional\n",
      " |          strings that will be used for the decorates (AND set) fro the new atom\n",
      " |      newAtomIndex: int, optional\n",
      " |          integer label that could be used to index the atom in a SMIRKS string\n",
      " |      \n",
      " |      Returns \n",
      " |      --------\n",
      " |      newAtom: atom object for the newly created atom\n",
      " |  \n",
      " |  asSMIRKS(self, initialAtom=None, neighbors=None, smarts=False)\n",
      " |      Return a SMIRKS representation of the chemical environment.\n",
      " |      \n",
      " |      Parameters\n",
      " |      -----------\n",
      " |      initalAtom = optional, atom object\n",
      " |          This is randomly selected if not chosen. \n",
      " |      neighbors = optional, list of atom objects\n",
      " |          This is all of the initalAtom neighbors if not specified \n",
      " |          generally this is used only for the recursive calls \n",
      " |          so initial atoms are not reprinted\n",
      " |      smarts = optional, boolean\n",
      " |          if True, returns a SMARTS string instead of SMIRKS\n",
      " |  \n",
      " |  getAtoms(self)\n",
      " |      Returns\n",
      " |      -------\n",
      " |      list of atoms in the environment\n",
      " |  \n",
      " |  getBond(self, atom1, atom2)\n",
      " |      Get bond betwen two atoms\n",
      " |      \n",
      " |      Parameters\n",
      " |      -----------\n",
      " |      atom1 and atom2: atom objects\n",
      " |      \n",
      " |      Returns\n",
      " |      --------\n",
      " |      bond object between the atoms or None if no bond there\n",
      " |  \n",
      " |  getBonds(self)\n",
      " |      Returns\n",
      " |      --------\n",
      " |      list of tuples for each bond in the form\n",
      " |      (atom1, atom2, bond object)\n",
      " |  \n",
      " |  removeAtom(self, atom)\n",
      " |      Remove the specified atom from the chemical environment.\n",
      " |      if the atom is not indexed for the SMIRKS string or \n",
      " |      used to connect two other atoms. \n",
      " |      \n",
      " |      Parameters\n",
      " |      ----------\n",
      " |      atom: atom object, required\n",
      " |          atom to be removed if it meets the conditions. \n",
      " |      \n",
      " |      Returns\n",
      " |      --------\n",
      " |      Boolean True: atom was removed, False: atom was not removed\n",
      " |  \n",
      " |  selectAtom(self, atomIndex=None)\n",
      " |      Select an atom with uniform probability.\n",
      " |      \n",
      " |      Paramters\n",
      " |      ---------\n",
      " |      atomIndex: int, optional\n",
      " |          if None returns a random atom, otherwise returns atom at that index\n",
      " |      \n",
      " |      Returns \n",
      " |      --------\n",
      " |      a random atom(node)\n",
      " |  \n",
      " |  selectBond(self, atomIndex1=None, atomIndex2=None)\n",
      " |      Select a bond with uniform probability.\n",
      " |      Bonds are found by the two atoms that define them\n",
      " |      \n",
      " |      Parameters\n",
      " |      ----------\n",
      " |      atomIndex1 and atomIndex2: int, optional\n",
      " |          indices for atoms framing the bond\n",
      " |      \n",
      " |      Returns\n",
      " |      --------\n",
      " |      atom1 and atom2\n",
      " |          Atom objects that are on either end of the bond\n",
      " |      bond\n",
      " |          Bond object connencting atoms\n",
      " |  \n",
      " |  ----------------------------------------------------------------------\n",
      " |  Data descriptors inherited from ChemicalEnvironment:\n",
      " |  \n",
      " |  __dict__\n",
      " |      dictionary for instance variables (if defined)\n",
      " |  \n",
      " |  __weakref__\n",
      " |      list of weak references to the object (if defined)\n",
      " |  \n",
      " |  ----------------------------------------------------------------------\n",
      " |  Data and other attributes inherited from ChemicalEnvironment:\n",
      " |  \n",
      " |  Atom = <class 'environment.Atom'>\n",
      " |      Atom representation, which may have some base (logical OR) and decorator (logical AND) properties.\n",
      " |      \n",
      " |      Type will be OR(bases) and AND(decorators).\n",
      " |      \n",
      " |      Properties\n",
      " |      -----------\n",
      " |      bases : set of string\n",
      " |          The base types that will be combined with logical OR\n",
      " |      decorators : set of string\n",
      " |          The decorators that will be combined with logical AND\n",
      " |  \n",
      " |  Bond = <class 'environment.Bond'>\n",
      " |      Bond representation, which may have base (OR) and decorator (AND) types.\n",
      " |      Properties\n",
      " |      -----------\n",
      " |      bases : set of string\n",
      " |          The base types that will be combined with logical OR\n",
      " |      decorators : set of string\n",
      " |          The decorators that will be combined with logical AND\n",
      "\n"
     ]
    }
   ],
   "source": [
    "help(environment.TorsionChemicalEnvironment)"
   ]
  },
  {
   "cell_type": "code",
   "execution_count": null,
   "metadata": {
    "collapsed": true
   },
   "outputs": [],
   "source": []
  }
 ],
 "metadata": {
  "kernelspec": {
   "display_name": "Python 2",
   "language": "python",
   "name": "python2"
  },
  "language_info": {
   "codemirror_mode": {
    "name": "ipython",
    "version": 2
   },
   "file_extension": ".py",
   "mimetype": "text/x-python",
   "name": "python",
   "nbconvert_exporter": "python",
   "pygments_lexer": "ipython2",
   "version": "2.7.11"
  }
 },
 "nbformat": 4,
 "nbformat_minor": 0
}
