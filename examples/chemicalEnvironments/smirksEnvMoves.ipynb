{
 "cells": [
  {
   "cell_type": "code",
   "execution_count": 1,
   "metadata": {
    "collapsed": false
   },
   "outputs": [],
   "source": [
    "#!/usr/bin/env python\n",
    "# generic scientific/ipython header\n",
    "from __future__ import print_function\n",
    "import os, sys\n",
    "import pandas as pd\n",
    "import scipy.stats as stats\n",
    "import scipy as sci\n",
    "import numpy as np\n",
    "import pylab\n",
    "get_ipython().magic(u'matplotlib inline')"
   ]
  },
  {
   "cell_type": "code",
   "execution_count": 2,
   "metadata": {
    "collapsed": true
   },
   "outputs": [],
   "source": [
    "import random as rand"
   ]
  },
  {
   "cell_type": "markdown",
   "metadata": {},
   "source": [
    "### OpenEye section: load up relevant libs and depiction functions\n",
    "\n",
    "We will use depictMatch, which highlights the SMARTS matches but not yet the SMIRKS map indices"
   ]
  },
  {
   "cell_type": "code",
   "execution_count": 3,
   "metadata": {
    "collapsed": true
   },
   "outputs": [],
   "source": [
    "import openeye.oechem as oechem\n",
    "import openeye.oedepict as oedepict\n",
    "from IPython.display import display"
   ]
  },
  {
   "cell_type": "code",
   "execution_count": 4,
   "metadata": {
    "collapsed": false
   },
   "outputs": [],
   "source": [
    "def depictMatch(mol, match, width=500, height=200):\n",
    "    from IPython.display import Image\n",
    "    dopt = oedepict.OEPrepareDepictionOptions()\n",
    "    dopt.SetDepictOrientation( oedepict.OEDepictOrientation_Horizontal)\n",
    "    dopt.SetSuppressHydrogens(False)\n",
    "    oedepict.OEPrepareDepiction(mol, dopt)\n",
    "    opts = oedepict.OE2DMolDisplayOptions(width, height, oedepict.OEScale_AutoScale)\n",
    "    opts.SetTitleLocation(oedepict.OETitleLocation_Bottom)\n",
    "    disp = oedepict.OE2DMolDisplay(mol, opts)\n",
    "    hstyle = oedepict.OEHighlightStyle_Color\n",
    "    hcolor = oechem.OEColor(oechem.OEDarkGreen)\n",
    "    oedepict.OEAddHighlighting(disp, hcolor, hstyle, match)\n",
    "    ofs = oechem.oeosstream()\n",
    "    oedepict.OERenderMolecule(ofs, 'png', disp)\n",
    "    ofs.flush()\n",
    "    return Image(data = \"\".join(ofs.str()))"
   ]
  },
  {
   "cell_type": "code",
   "execution_count": 5,
   "metadata": {
    "collapsed": true
   },
   "outputs": [],
   "source": [
    "def smirksToSubsearch( smirks, chemGroups):\n",
    "    '''Takes a SMIRKS string and a list of substitution chemical groups and returns the\n",
    "    corresponding Substructure Search object if the SMIRKS string is well-formed'''\n",
    "    modSmarts = oechem.OESmartsLexReplace( Smarts, chemGroups)\n",
    "    if Smarts != modSmarts:\n",
    "        print(\"orig     smarts: %s\\nmodified smarts: %s\" % (Smarts, modSmarts))\n",
    "    qmol = oechem.OEQMol()\n",
    "    if not oechem.OEParseSmarts( qmol, modSmarts ):\n",
    "        print( 'OEParseSmarts on %s failed' % modSmarts )\n",
    "    return oechem.OESubSearch( qmol)"
   ]
  },
  {
   "cell_type": "markdown",
   "metadata": {},
   "source": [
    "### Load lib for chemical environments\n",
    "\n",
    "Note full path to the library over in the smarty git tree"
   ]
  },
  {
   "cell_type": "code",
   "execution_count": 6,
   "metadata": {
    "collapsed": true
   },
   "outputs": [],
   "source": [
    "import imp\n",
    "smirky = imp.load_source('environment','/Users/bayly/BaylyData/collaborations/sabbatical/smarty/smarty/environment.py')"
   ]
  },
  {
   "cell_type": "markdown",
   "metadata": {},
   "source": [
    "### Chemical groups we might use"
   ]
  },
  {
   "cell_type": "code",
   "execution_count": 7,
   "metadata": {
    "collapsed": true
   },
   "outputs": [],
   "source": [
    "chemGroups = [ ('ewg1', '[#7,#8!-1,#16!-1,F,Cl,Br,I]'),\n",
    "               ('ewg1di', '[#7!X1,#8!X1,#16!X1]') ]"
   ]
  },
  {
   "cell_type": "markdown",
   "metadata": {},
   "source": [
    "### initialize a torsion with brute force lists for atoms and bonds"
   ]
  },
  {
   "cell_type": "code",
   "execution_count": 8,
   "metadata": {
    "collapsed": false
   },
   "outputs": [
    {
     "name": "stdout",
     "output_type": "stream",
     "text": [
      "[#6;X4:1]!@,!#[#6;X4:2]=,:,-;@[#6;X4:3]-[#6;X4:4]\n"
     ]
    }
   ],
   "source": [
    "#torsionEnv1 = smirky.TorsionChemicalEnvironment([['#6'], ['X4']], [['-'], None], [['#6'], ['X4']], [['-'], None], [['#6'], ['X4']], [['-'], None], [['#6'], ['X4']])\n",
    "#torsionEnv1 = smirky.TorsionChemicalEnvironment([['#6'], ['X4']], [['!#', '!@'], None], [['#6'], ['X4']], [None,None], [['#6'], ['X4']], [['-'], None], [['#6'], ['X4']])\n",
    "torsionEnv1 = smirky.TorsionChemicalEnvironment([['#6'], ['X4']], [['!#', '!@'], None], [['#6'], ['X4']], [['-',':','='],['@']], [['#6'], ['X4']], [['-'], None], [['#6'], ['X4']])\n",
    "print( torsionEnv1.asSMIRKS() )"
   ]
  },
  {
   "cell_type": "markdown",
   "metadata": {},
   "source": [
    "### torsions from atom and bond sublists"
   ]
  },
  {
   "cell_type": "code",
   "execution_count": 9,
   "metadata": {
    "collapsed": false
   },
   "outputs": [],
   "source": [
    "# Sublists\n",
    "A_any = [None,None]\n",
    "A_C = [ ['#6'], None]\n",
    "A_Ctet = [ ['#6X4'], None]\n",
    "A_O = [ ['#8'], None]\n",
    "A_OEth = [ ['#8X2'], ['H0','+0']]\n",
    "A_OH = [ ['#8X2'], ['H1','+0'] ]\n",
    "A_H = [ ['H'], None]\n",
    "Bsngl = [ ['-'], None]\n",
    "BnoRing = [ ['!@'], None]\n",
    "B_any = [ None, None]"
   ]
  },
  {
   "cell_type": "code",
   "execution_count": 10,
   "metadata": {
    "collapsed": false
   },
   "outputs": [
    {
     "name": "stdout",
     "output_type": "stream",
     "text": [
      "[#8X2;H0;+0:1]~[#6X4:2]-[#8:3]~[*:4]\n"
     ]
    }
   ],
   "source": [
    "# specific torsions from sublists\n",
    "torsionEnv2 = smirky.TorsionChemicalEnvironment( A_Ctet,B_any,A_Ctet,Bsngl,A_OH,B_any,A_any )\n",
    "torsionEnv3 = smirky.TorsionChemicalEnvironment( A_OEth,B_any,A_Ctet,Bsngl,A_OH,B_any,A_any )\n",
    "torsionEnv4 = smirky.TorsionChemicalEnvironment( A_OEth,B_any,A_Ctet,Bsngl,A_O,B_any,A_any )\n",
    "print( torsionEnv4.asSMIRKS() )"
   ]
  },
  {
   "cell_type": "code",
   "execution_count": 11,
   "metadata": {
    "collapsed": false
   },
   "outputs": [
    {
     "name": "stdout",
     "output_type": "stream",
     "text": [
      "[#6X4:1]~[#6X4:2]!@[#6X4:3]\n"
     ]
    }
   ],
   "source": [
    "# specific angles from sublists \n",
    "angEnv1 = smirky.AngleChemicalEnvironment( A_OEth,B_any,A_Ctet,Bsngl,A_OH)\n",
    "angEnv2 = smirky.AngleChemicalEnvironment( A_Ctet,B_any,A_Ctet,Bsngl,A_Ctet)\n",
    "angEnv3 = smirky.AngleChemicalEnvironment( A_Ctet,B_any,A_Ctet,BnoRing,A_Ctet)\n",
    "print( angEnv3.asSMIRKS() )"
   ]
  },
  {
   "cell_type": "code",
   "execution_count": 12,
   "metadata": {
    "collapsed": true
   },
   "outputs": [],
   "source": [
    "Smarts = torsionEnv4.asSMIRKS()\n",
    "ss = smirksToSubsearch( Smarts, chemGroups)"
   ]
  },
  {
   "cell_type": "code",
   "execution_count": 13,
   "metadata": {
    "collapsed": false
   },
   "outputs": [],
   "source": [
    "fileprefix= 'AlkEthOH_dvrs1'\n",
    "ifs = oechem.oemolistream(fileprefix+'.oeb')\n",
    "#ofs = oechem.oemolostream(fileprefix+'_filt1.smi')"
   ]
  },
  {
   "cell_type": "code",
   "execution_count": 14,
   "metadata": {
    "collapsed": false,
    "scrolled": false
   },
   "outputs": [
    {
     "data": {
      "image/png": "[encoded data removed]",
      "text/plain": [
       "<IPython.core.display.Image object>"
      ]
     },
     "metadata": {},
     "output_type": "display_data"
    },
    {
     "name": "stdout",
     "output_type": "stream",
     "text": [
      "8 5 9 4 \n",
      "1 2 3 4 "
     ]
    },
    {
     "data": {
      "image/png": "[encoded data removed]",
      "text/plain": [
       "<IPython.core.display.Image object>"
      ]
     },
     "metadata": {},
     "output_type": "display_data"
    },
    {
     "name": "stdout",
     "output_type": "stream",
     "text": [
      "8 5 12 26 \n",
      "1 2 3 4 "
     ]
    },
    {
     "data": {
      "image/png": "[encoded data removed]",
      "text/plain": [
       "<IPython.core.display.Image object>"
      ]
     },
     "metadata": {},
     "output_type": "display_data"
    },
    {
     "name": "stdout",
     "output_type": "stream",
     "text": [
      "9 4 11 25 \n",
      "1 2 3 4 "
     ]
    },
    {
     "data": {
      "image/png": "[encoded data removed]",
      "text/plain": [
       "<IPython.core.display.Image object>"
      ]
     },
     "metadata": {},
     "output_type": "display_data"
    },
    {
     "name": "stdout",
     "output_type": "stream",
     "text": [
      "9 5 8 1 \n",
      "1 2 3 4 "
     ]
    },
    {
     "data": {
      "image/png": "[encoded data removed]",
      "text/plain": [
       "<IPython.core.display.Image object>"
      ]
     },
     "metadata": {},
     "output_type": "display_data"
    },
    {
     "name": "stdout",
     "output_type": "stream",
     "text": [
      "9 5 12 26 \n",
      "1 2 3 4 "
     ]
    }
   ],
   "source": [
    "mol = oechem.OEMol()\n",
    "for mol in ifs.GetOEMols():\n",
    "    goodMol = True\n",
    "    oechem.OEPrepareSearch(mol, ss)\n",
    "    unique = True\n",
    "    for match in ss.Match(mol, unique):\n",
    "        display( depictMatch(mol, match))\n",
    "        for ma in match.GetAtoms():\n",
    "            print(ma.target.GetIdx(), end=\" \")\n",
    "            #print(ma.pattern.GetIdx(), end=\" \")\n",
    "        print('')\n",
    "        for ma in match.GetAtoms():\n",
    "            print(ma.pattern.GetMapIdx(), end=\" \")"
   ]
  },
  {
   "cell_type": "code",
   "execution_count": 15,
   "metadata": {
    "collapsed": false
   },
   "outputs": [],
   "source": [
    "ifs.close()\n",
    "#ofs.close()"
   ]
  },
  {
   "cell_type": "code",
   "execution_count": 16,
   "metadata": {
    "collapsed": false
   },
   "outputs": [],
   "source": [
    "# Generic move lists (initial guess)\n",
    "#AtmNums = ['','#1','5','#6','7','#8','9','15','16','17','35','53']\n",
    "#AtmORdecs = ['', 'X4','X3','X2','X1']\n",
    "#AtmAndDecs = ['','H0','+0',]\n",
    "#BondOrdr = ['','-',':','=','#','~']\n",
    "#BondANDDecs = ['','@','!@','!#']\n",
    "\n",
    "# AlkEthOH move lists (initial guess)\n",
    "AtmNums = ['','#1','#6','#8']\n",
    "AtmORdecs = ['', 'X4','X3','X2','X1']\n",
    "AtmAndDecs = ['','H0']\n",
    "BondOrdr = ['','-','~']\n",
    "BondANDDecs = ['','@','!@']"
   ]
  },
  {
   "cell_type": "code",
   "execution_count": 34,
   "metadata": {
    "collapsed": false
   },
   "outputs": [
    {
     "name": "stdout",
     "output_type": "stream",
     "text": [
      "[#8X2;H0;+0:1]~[#6X4:2]-[#8:3]~[*:4]\n",
      "['#8X2']\n",
      "['H0', '+0']\n",
      "Selected atom :  4 [] []\n",
      "4 [] []\n",
      "1 ['#8X2'] ['H0', '+0']\n",
      "3 ['#8'] []\n",
      "2 ['#6X4'] []\n",
      "['-']\n",
      "[]\n"
     ]
    }
   ],
   "source": [
    "torsion = torsionEnv4\n",
    "print( torsion.asSMIRKS() )\n",
    "print( torsion.atom1.getORtypes() )\n",
    "print( torsion.atom1.getANDtypes() )\n",
    "atom1 = torsion.selectAtom( 4)\n",
    "print('Selected atom : ',atom1.index, atom1.getORtypes(), atom1.getANDtypes() )\n",
    "atmlist = torsion.getAtoms()\n",
    "for atom in atmlist:\n",
    "    print(atom.index, atom.getORtypes(), atom.getANDtypes() )\n",
    "bond2 = torsion.getBond(torsion.atom2,torsion.atom3)\n",
    "print( bond2.getORtypes() )\n",
    "print( bond2.getANDtypes() )"
   ]
  },
  {
   "cell_type": "code",
   "execution_count": 18,
   "metadata": {
    "collapsed": false
   },
   "outputs": [],
   "source": [
    "patternLength= { 'Torsion': 4, 'Improper': 4, 'Angle': 3, 'Bond': 2, 'Vdw': 1}"
   ]
  },
  {
   "cell_type": "code",
   "execution_count": 23,
   "metadata": {
    "collapsed": false
   },
   "outputs": [
    {
     "name": "stdout",
     "output_type": "stream",
     "text": [
      "[#8X2;H0;+0:1]~[#6X4:2]-[#8X2;H1;+0:3]~[*:4]\n",
      "atom 4 [] []\n",
      "atom 4 [] []\n",
      "bond 3 4 [] []\n",
      "atom 2 ['#6X4'] []\n",
      "bond 3 2 ['-'] []\n",
      "atom 1 ['#8X2'] ['H0', '+0']\n",
      "atom 2 ['#6X4'] []\n",
      "atom 1 ['#8X2'] ['H0', '+0']\n",
      "atom 4 [] []\n",
      "bond 1 2 [] []\n",
      "atom 4 [] []\n",
      "atom 4 [] []\n",
      "atom 4 [] []\n",
      "atom 3 ['#8X2'] ['H1', '+0']\n",
      "atom 1 ['#8X2'] ['H0', '+0']\n",
      "atom 3 ['#8X2'] ['H1', '+0']\n",
      "bond 1 2 [] []\n",
      "bond 1 2 [] []\n",
      "bond 2 1 [] []\n",
      "atom 3 ['#8X2'] ['H1', '+0']\n"
     ]
    }
   ],
   "source": [
    "param = torsionEnv3\n",
    "print( param.asSMIRKS() )\n",
    "for i in range(0,20):\n",
    "    AtmOrBnd = rand.choice( ['atom','atom','bond'])\n",
    "    if AtmOrBnd=='atom':\n",
    "        atom = param.selectAtom()\n",
    "        print( AtmOrBnd, atom.index, atom.getORtypes(), atom.getANDtypes() )\n",
    "    elif AtmOrBnd=='bond':\n",
    "        firstAtom, secondAtom, bond = param.selectBond()\n",
    "        print( AtmOrBnd, firstAtom.index, secondAtom.index, bond.getORtypes(), bond.getANDtypes() )\n",
    "    else:\n",
    "        raise ValueError ('expected string to be either \"atom\" or \"bond\"')"
   ]
  },
  {
   "cell_type": "code",
   "execution_count": 37,
   "metadata": {
    "collapsed": false
   },
   "outputs": [
    {
     "name": "stdout",
     "output_type": "stream",
     "text": [
      "[#8X2;H0;+0:1]~[#6X4:2]-[#8X2;H1;+0:3]~[*:4]\n",
      "atom: 4 [] []\n",
      "bond: 4 3 [] []\n"
     ]
    }
   ],
   "source": [
    "print( param.asSMIRKS() )\n",
    "atom = param.selectAtom()\n",
    "print( 'atom:', atom.index, atom.getORtypes(), atom.getANDtypes() )\n",
    "firstAtom, secondAtom, bond = param.selectBond()\n",
    "print( 'bond:', firstAtom.index, secondAtom.index, bond.getORtypes(), bond.getANDtypes() )"
   ]
  },
  {
   "cell_type": "code",
   "execution_count": 36,
   "metadata": {
    "collapsed": false
   },
   "outputs": [],
   "source": [
    "atomFeatures = ['AtNum', 'ORdec', 'ANDdec']\n",
    "bondFeatures = ['ORtype', 'ANDtype']\n",
    "actionChoices = ['add','swap','delete']"
   ]
  },
  {
   "cell_type": "code",
   "execution_count": 63,
   "metadata": {
    "collapsed": false
   },
   "outputs": [
    {
     "name": "stdout",
     "output_type": "stream",
     "text": [
      "[#8X2;H0;+0:1]~[#6X4:2]-[#8X2;H1;+0:3]~[#1:4]\n",
      "['#1']\n",
      "['']\n",
      "[#8X2;H0;+0:1]~[#6X4:2]-[#8X2;H1;+0:3]~[:4]\n"
     ]
    }
   ],
   "source": [
    "# parse atom ORtypes into atomic elements (AtNums) and decorators (Ordecs)\n",
    "print( param.asSMIRKS() )\n",
    "atomORtypes = atom.getORtypes()\n",
    "print( atomORtypes)\n",
    "atomORtypes = [rand.choice(AtmNums)]\n",
    "print( atomORtypes)\n",
    "atom.setORtypes( atomORtypes)\n",
    "print( param.asSMIRKS() )"
   ]
  },
  {
   "cell_type": "code",
   "execution_count": 51,
   "metadata": {
    "collapsed": false
   },
   "outputs": [
    {
     "name": "stdout",
     "output_type": "stream",
     "text": [
      "AtNum add\n",
      "ANDdec add\n",
      "ORdec swap\n",
      "AtNum delete\n",
      "ANDdec add\n",
      "ANDdec delete\n",
      "ANDdec add\n",
      "ANDdec delete\n",
      "ANDdec add\n",
      "ANDdec delete\n",
      "ORdec add\n",
      "AtNum swap\n",
      "ANDdec swap\n",
      "AtNum swap\n",
      "ORdec add\n",
      "ANDdec add\n",
      "AtNum swap\n",
      "AtNum add\n",
      "ORdec delete\n",
      "ANDdec add\n"
     ]
    }
   ],
   "source": [
    "for i in range(0,20):\n",
    "    print( rand.choice( atomFeatures), rand.choice( actionChoices) )"
   ]
  },
  {
   "cell_type": "code",
   "execution_count": 52,
   "metadata": {
    "collapsed": false
   },
   "outputs": [
    {
     "name": "stdout",
     "output_type": "stream",
     "text": [
      "Help on method setORtypes in module environment:\n",
      "\n",
      "setORtypes(self, newORtypes) method of environment.Atom instance\n",
      "    sets new ORtypes for this atom\n",
      "    \n",
      "    Parameters\n",
      "    ----------\n",
      "    newORtypes: set of strings\n",
      "        strings that will be OR'd together in a SMARTS\n",
      "\n"
     ]
    }
   ],
   "source": [
    "help( atom.setORtypes)"
   ]
  },
  {
   "cell_type": "code",
   "execution_count": null,
   "metadata": {
    "collapsed": true
   },
   "outputs": [],
   "source": []
  }
 ],
 "metadata": {
  "kernelspec": {
   "display_name": "Python 2",
   "language": "python",
   "name": "python2"
  },
  "language_info": {
   "codemirror_mode": {
    "name": "ipython",
    "version": 2
   },
   "file_extension": ".py",
   "mimetype": "text/x-python",
   "name": "python",
   "nbconvert_exporter": "python",
   "pygments_lexer": "ipython2",
   "version": "2.7.11"
  }
 },
 "nbformat": 4,
 "nbformat_minor": 0
}
