{
 "cells": [
  {
   "cell_type": "code",
   "execution_count": 1,
   "metadata": {
    "collapsed": false
   },
   "outputs": [],
   "source": [
    "#!/usr/bin/env python\n",
    "# generic scientific/ipython header\n",
    "from __future__ import print_function\n",
    "from __future__ import division\n",
    "import os, sys\n",
    "import copy\n",
    "import numpy as np"
   ]
  },
  {
   "cell_type": "code",
   "execution_count": 2,
   "metadata": {
    "collapsed": true
   },
   "outputs": [],
   "source": [
    "import openeye.oechem as oechem"
   ]
  },
  {
   "cell_type": "markdown",
   "metadata": {},
   "source": [
    "### Load lib for chemical environments\n",
    "\n",
    "Note full path to the library over in the smarty git tree"
   ]
  },
  {
   "cell_type": "code",
   "execution_count": 3,
   "metadata": {
    "collapsed": true
   },
   "outputs": [],
   "source": [
    "import imp\n",
    "smirky = imp.load_source('environment','/Users/bayly/BaylyData/collaborations/sabbatical/smarty/smarty/environment.py')"
   ]
  },
  {
   "cell_type": "markdown",
   "metadata": {},
   "source": [
    "### Chemical groups we might use"
   ]
  },
  {
   "cell_type": "code",
   "execution_count": 4,
   "metadata": {
    "collapsed": true
   },
   "outputs": [],
   "source": [
    "chemGroups = [ ('ewg1', '[#7,#8!-1,#16!-1,F,Cl,Br,I]'),\n",
    "               ('ewg1di', '[#7!X1,#8!X1,#16!X1]') ]"
   ]
  },
  {
   "cell_type": "markdown",
   "metadata": {},
   "source": [
    "### torsions from atom and bond sublists"
   ]
  },
  {
   "cell_type": "code",
   "execution_count": 5,
   "metadata": {
    "collapsed": false
   },
   "outputs": [],
   "source": [
    "# Sublists\n",
    "A_any = [None,None]\n",
    "A_C = [ ['#6'], None]\n",
    "A_Ctet = [ ['#6X4'], None]\n",
    "A_O = [ ['#8'], None]\n",
    "A_OEth = [ ['#8X2'], ['H0','+0']]\n",
    "A_OH = [ ['#8X2'], ['H1','+0'] ]\n",
    "A_H = [ ['H'], None]\n",
    "Bsngl = [ ['-'], None]\n",
    "BnoRing = [ ['!@'], None]\n",
    "B_any = [ None, None]"
   ]
  },
  {
   "cell_type": "code",
   "execution_count": 6,
   "metadata": {
    "collapsed": false
   },
   "outputs": [
    {
     "name": "stdout",
     "output_type": "stream",
     "text": [
      "[#8X2;H0;+0:1]~[#6X4:2]-[#8:3]~[*:4]\n"
     ]
    }
   ],
   "source": [
    "# specific torsions from sublists\n",
    "torsionEnv2 = smirky.TorsionChemicalEnvironment( A_Ctet,B_any,A_Ctet,Bsngl,A_OH,B_any,A_any )\n",
    "torsionEnv3 = smirky.TorsionChemicalEnvironment( A_OEth,B_any,A_Ctet,Bsngl,A_OH,B_any,A_any )\n",
    "torsionEnv4 = smirky.TorsionChemicalEnvironment( A_OEth,B_any,A_Ctet,Bsngl,A_O,B_any,A_any )\n",
    "print( torsionEnv4.asSMIRKS() )"
   ]
  },
  {
   "cell_type": "code",
   "execution_count": 7,
   "metadata": {
    "collapsed": false
   },
   "outputs": [
    {
     "name": "stdout",
     "output_type": "stream",
     "text": [
      "[#6X4:1]~[#6X4:2]!@[#6X4:3]\n"
     ]
    }
   ],
   "source": [
    "# specific angles from sublists \n",
    "angEnv1 = smirky.AngleChemicalEnvironment( A_OEth,B_any,A_Ctet,Bsngl,A_OH)\n",
    "angEnv2 = smirky.AngleChemicalEnvironment( A_Ctet,B_any,A_Ctet,Bsngl,A_Ctet)\n",
    "angEnv3 = smirky.AngleChemicalEnvironment( A_Ctet,B_any,A_Ctet,BnoRing,A_Ctet)\n",
    "print( angEnv3.asSMIRKS() )"
   ]
  },
  {
   "cell_type": "code",
   "execution_count": 8,
   "metadata": {
    "collapsed": false
   },
   "outputs": [
    {
     "name": "stdout",
     "output_type": "stream",
     "text": [
      "[H:1]-[#6X4:2]\n"
     ]
    }
   ],
   "source": [
    "# specific bonds from sublists \n",
    "bondEnv1 = smirky.BondChemicalEnvironment( A_OEth,B_any,A_Ctet)\n",
    "bondEnv2 = smirky.BondChemicalEnvironment( A_Ctet,BnoRing,A_Ctet)\n",
    "bondEnv3 = smirky.BondChemicalEnvironment( A_H,Bsngl,A_Ctet)\n",
    "print( bondEnv3.asSMIRKS() )"
   ]
  },
  {
   "cell_type": "code",
   "execution_count": 9,
   "metadata": {
    "collapsed": false
   },
   "outputs": [
    {
     "name": "stdout",
     "output_type": "stream",
     "text": [
      "[#8X2H0]-[#6](-[#1:1])(-[#7X4+1])-[#9]\n"
     ]
    }
   ],
   "source": [
    "# specific vdW from sublists \n",
    "atomEnv1 = smirky.AtomChemicalEnvironment( A_OEth)\n",
    "atomEnv2 = smirky.AtomChemicalEnvironment( A_Ctet)\n",
    "atomEnv3 = smirky.AtomChemicalEnvironment( A_H)\n",
    "atomH3 = smirky.ChemicalEnvironment( '[#1:1]-[#6](-[#7X4+1])(-[#8X2H0])-[#9]')\n",
    "print( atomH3.asSMIRKS() )"
   ]
  },
  {
   "cell_type": "code",
   "execution_count": 10,
   "metadata": {
    "collapsed": false
   },
   "outputs": [],
   "source": [
    "# Generic move lists without odds (initial guess), reformat below\n",
    "ChemComponents = {}\n",
    "ChemComponents['AtmBase'] = ['','#1','#5','#6','#7','#8','#9','#15','#16','#17','#35','#53']\n",
    "ChemComponents['AtmORdecs'] = ['','X4','X3','X2','X1']\n",
    "ChemComponents['AtmAndDecs'] = ['H0','+0',]\n",
    "ChemComponents['BondBase'] = ['-',':','=','#','~']\n",
    "ChemComponents['BondANDDecs'] = ['@','!@','!#']\n",
    "                                 \n",
    "# AlkEthOH move lists (initial guess)"
   ]
  },
  {
   "cell_type": "code",
   "execution_count": 11,
   "metadata": {
    "collapsed": true
   },
   "outputs": [],
   "source": [
    "# reformat ChemComponents dict as tuples representing odds for each item\n",
    "#for key in ChemComponents.keys():\n",
    "#    print('ChemComponentsWithOdds[\\'%s\\'] = [' % key)\n",
    "#    for item in ChemComponents[key]:\n",
    "#        print(' (\\'%s\\', 1),' % item )\n",
    "#    print(' ]')"
   ]
  },
  {
   "cell_type": "markdown",
   "metadata": {},
   "source": [
    "### For Future:\n",
    "### Decorators need weights, and they need to be weighted differently for different atomic elements. \n",
    "\n",
    "Guessed examples based on experience with organic chemistry:\n",
    "    \n",
    "--------\n",
    "* C [ ('X4', 20), ('X3', 20), ('X2', 5), ('X1', 1), ]\n",
    "* N [ ('X4', 10), ('X3', 10), ('X2', 10), ('X1', 1), ]\n",
    "* O [ ('X4', 0), ('X3', 1), ('X2', 20), ('X1', 20), ]\n",
    "* H,F,Cl,Br,I [ don't use this decorator on this atom ]\n",
    "---------\n",
    "* C [ ('H0', 1), ('H1', 1), ('H2', 1), ('H3', 1) ]\n",
    "* N [ ('H0', 1), ('H1', 1), ('H2', 1), ('H3', 1) ]\n",
    "* O [ ('H0', 20), ('H1', 20), ('H2', 1), ('H3', 0) ]\n",
    "* H,F,Cl,Br,I [ don't use this decorator on this atom ]\n",
    "---------\n",
    "* C [ ('-1', 1), ('+0', 50), ('+1', 0) ]\n",
    "* N [ ('-1', 1), ('+0', 20), ('+1', 5) ]\n",
    "* O [ ('-1', 10), ('+0', 50), ('+1', 1) ]\n",
    "* H,F,Cl,Br,I [ don't use this decorator on this atom ]"
   ]
  },
  {
   "cell_type": "code",
   "execution_count": 12,
   "metadata": {
    "collapsed": true
   },
   "outputs": [],
   "source": [
    "# General\n",
    "atomComponentsWithOdds = {}\n",
    "atomComponentsWithOdds['Basetypes'] = [\n",
    " ('#1', 10),\n",
    " ('#5', 10),\n",
    " ('#6', 10),\n",
    " ('#7', 10),\n",
    " ('#8', 10),\n",
    " ('#9', 1),\n",
    " ('#15', 2),\n",
    " ('#16', 4),\n",
    " ('#17', 1),\n",
    " ('#35', 1),\n",
    " ('#53', 1),\n",
    " ]\n",
    "atomComponentsWithOdds['ORdecs'] = [ ('', 4), \n",
    "                                       ('X4', 4), ('X3', 4), ('X2', 4), ('X1', 4), \n",
    "                                       ('H3', 1), ('H2', 1), ('H1', 1), ('H0', 1)\n",
    "                                      ]\n",
    "# these AtmAndDecs are dummies just to get going; real chemistry puts H-count on each atom\n",
    "atomComponentsWithOdds['ANDdecs'] = [ ('H0', 1), ('+0', 1), ]\n",
    "\n",
    "bondComponentsWithOdds = {}\n",
    "bondComponentsWithOdds['Basetypes'] = [ ('-', 1), (':', 1), ('=', 1), ('#', 1), ('~', 1), ]\n",
    "bondComponentsWithOdds['ORdecs'] = []\n",
    "bondComponentsWithOdds['ANDdecs'] = [ ('@', 1), ('!@', 1), ('!#', 1), ]"
   ]
  },
  {
   "cell_type": "code",
   "execution_count": 13,
   "metadata": {
    "collapsed": false
   },
   "outputs": [],
   "source": [
    "# for AlkEthOH\n",
    "atomComponentsWithOdds = {}\n",
    "atomComponentsWithOdds['Basetypes'] = [\n",
    " ('#1', 1),\n",
    " ('#5', 0),\n",
    " ('#6', 1),\n",
    " ('#7', 0),\n",
    " ('#8', 1),\n",
    " ('#9', 0),\n",
    " ('#15', 0),\n",
    " ('#16', 0),\n",
    " ('#17', 0),\n",
    " ('#35', 0),\n",
    " ('#53', 0),\n",
    " ]\n",
    "atomComponentsWithOdds['ORdecs'] = [ ('', 4), \n",
    "                                       ('X4', 4), ('X3', 4), ('X2', 4), ('X1', 4), \n",
    "                                       ('H3', 1), ('H2', 1), ('H1', 1), ('H0', 1)\n",
    "                                      ]\n",
    "# these AtmAndDecs are dummies just to get going; real chemistry puts H-count on each atom\n",
    "atomComponentsWithOdds['ANDdecs'] = [ ('H0', 1), ('+0', 1), ]\n",
    "\n",
    "bondComponentsWithOdds = {}\n",
    "bondComponentsWithOdds['Basetypes'] = [ ('-', 1), (':', 0), ('=', 0), ('#', 0), ('~', 1), ]\n",
    "bondComponentsWithOdds['ORdecs'] = []\n",
    "bondComponentsWithOdds['ANDdecs'] = [ ('@', 1), ('!@', 1), ('!#', 0), ]"
   ]
  },
  {
   "cell_type": "markdown",
   "metadata": {},
   "source": [
    "### The following two functions are copied from iPython notebook EnvMovesTypesAndWeights:\n",
    "###  movesWithWeightsFromOdds and PickMoveItemWithProb"
   ]
  },
  {
   "cell_type": "code",
   "execution_count": 14,
   "metadata": {
    "collapsed": true
   },
   "outputs": [],
   "source": [
    "# function copied from EnvMovesTypesAndWeights\n",
    "def movesWithWeightsFromOdds( MovesWithOdds):\n",
    "    '''Processes a dictionary of movesWithOdds (lists of string/integer tuples)\n",
    "    into a dictionary of movesWithWeights usable to perform weighted\n",
    "    random choices with numpy's random.choice() function.\n",
    "    Argument:   a MovesWithOdds dictionary of lists of string/integer tuples\n",
    "    Returns: a MovesWithWeights dictionary of pairs of a moveType-list with a \n",
    "            probabilites-list, the latter used by numpy's random.choice() function.'''\n",
    "    movesWithWeights = {}\n",
    "    for key in MovesWithOdds.keys():\n",
    "        moves = [ item[0] for item in MovesWithOdds[key] ]\n",
    "        odds =  [ item[1] for item in MovesWithOdds[key] ]\n",
    "        weights = odds/np.sum(odds)\n",
    "        #print( key, moves, odds, weights)\n",
    "        movesWithWeights[key] = ( moves, weights)\n",
    "    return movesWithWeights"
   ]
  },
  {
   "cell_type": "code",
   "execution_count": 15,
   "metadata": {
    "collapsed": true
   },
   "outputs": [],
   "source": [
    "# function copied from EnvMovesTypesAndWeights\n",
    "def PickMoveItemWithProb( moveType, moveWithWeights):\n",
    "    '''Picks a moveItem based on a moveType and a dictionary of moveTypes with associated probabilities\n",
    "       Arguments:\n",
    "         moveType: string corresponding to a key in the moveWithWeights dictionary, e.g. atomTor\n",
    "         moveWithWeights: a dictionary based on moveType keys which each point to a list of probabilites\n",
    "           associated with the position in the list\n",
    "        Returns:\n",
    "          the randomly-chosen position in the list, based on the probability, together with the probability'''\n",
    "    listOfIndexes = range(0, len( moveWithWeights[moveType][1]) )\n",
    "    listIndex = np.random.choice(listOfIndexes, p= moveWithWeights[moveType][1])\n",
    "    return moveWithWeights[moveType][0][listIndex], moveWithWeights[moveType][1][listIndex]"
   ]
  },
  {
   "cell_type": "code",
   "execution_count": 16,
   "metadata": {
    "collapsed": false
   },
   "outputs": [],
   "source": [
    "#print( ChemComponentsWithWeights)\n",
    "atomComponentsWithWeights = movesWithWeightsFromOdds(atomComponentsWithOdds)\n",
    "#print( 'atomComponentsWithWeights', atomComponentsWithWeights)\n",
    "bondComponentsWithWeights = movesWithWeightsFromOdds(bondComponentsWithOdds)\n",
    "#print( 'bondComponentsWithWeights', bondComponentsWithWeights)\n",
    "masterComponentsWithWeights = { 'atom':atomComponentsWithWeights,\n",
    "                                'bond':bondComponentsWithWeights}\n",
    "#print( 'masterComponentsWithWeights', masterComponentsWithWeights)"
   ]
  },
  {
   "cell_type": "code",
   "execution_count": 17,
   "metadata": {
    "collapsed": false
   },
   "outputs": [
    {
     "name": "stdout",
     "output_type": "stream",
     "text": [
      "[#8X2;H0;+0:1]~[#6X4:2]-[#8:3]~[*:4]\n",
      "['#8X2']\n",
      "['H0', '+0']\n",
      "Selected atom :  4 [] []\n",
      "3 ['#8'] []\n",
      "1 ['#8X2'] ['H0', '+0']\n",
      "4 [] []\n",
      "2 ['#6X4'] []\n",
      "['-']\n",
      "[]\n"
     ]
    }
   ],
   "source": [
    "torsion = torsionEnv4\n",
    "print( torsion.asSMIRKS() )\n",
    "print( torsion.atom1.getORtypes() )\n",
    "print( torsion.atom1.getANDtypes() )\n",
    "atom1 = torsion.selectAtom( 4)\n",
    "print('Selected atom : ',atom1.index, atom1.getORtypes(), atom1.getANDtypes() )\n",
    "atmlist = torsion.getAtoms()\n",
    "for atom in atmlist:\n",
    "    print(atom.index, atom.getORtypes(), atom.getANDtypes() )\n",
    "bond2 = torsion.getBond(torsion.atom2,torsion.atom3)\n",
    "print( bond2.getORtypes() )\n",
    "print( bond2.getANDtypes() )"
   ]
  },
  {
   "cell_type": "code",
   "execution_count": 18,
   "metadata": {
    "collapsed": true
   },
   "outputs": [],
   "source": [
    "def EnvMoveIsWellFormed( moveDict, msg=''):\n",
    "    '''Checks moveSeq (dict of proposed chem env micro-moves) to see if\n",
    "    it is well-formed (i.e. before even looking at the chemical graph),\n",
    "    returning True unless there is an obvious problem.\n",
    "    Arguments: \n",
    "        moveSeq: a dict of strings constituting proposed micro-moves of a chem env move.\n",
    "        msg: an informative message about the nature of the problem.\n",
    "    Returns True unless it finds a problem'''\n",
    "    if moveDict['action']=='joinAtom':\n",
    "        if moveDict['atomOrBond']=='bond':\n",
    "            msg = 'cannot join another atom to an existing bond'\n",
    "            return False\n",
    "        elif moveDict['ANDorOR']=='ANDtype':\n",
    "            msg = 'can only join another atom as an ORtype'\n",
    "            return False\n",
    "    return True"
   ]
  },
  {
   "cell_type": "code",
   "execution_count": 19,
   "metadata": {
    "collapsed": false
   },
   "outputs": [],
   "source": [
    "moveDictFilename = 'moveTrees.uniq.VdW.txt'\n",
    "moveDictFile = open(moveDictFilename)\n",
    "moveDictdb = []\n",
    "for line in moveDictFile:\n",
    "    fields = line.split()\n",
    "    prob = fields[0]\n",
    "    moveDict = { 'action' : fields[1],\n",
    "               'atomOrBond' : fields[2],\n",
    "               'whichAtmBnd' : fields[3],\n",
    "               'ANDorOR' : fields[4],\n",
    "              }\n",
    "    if EnvMoveIsWellFormed(moveDict):\n",
    "        moveDictdb.append( (moveDict, prob) )\n",
    "    #print( moveDict, prob)\n",
    "moveDictFile.close()"
   ]
  },
  {
   "cell_type": "code",
   "execution_count": 20,
   "metadata": {
    "collapsed": false
   },
   "outputs": [
    {
     "name": "stdout",
     "output_type": "stream",
     "text": [
      "20\n",
      "True {'action': 'add', 'atomOrBond': 'atom', 'whichAtmBnd': 'atom1', 'ANDorOR': 'ANDtype'} 0.005165\n",
      "True {'action': 'add', 'atomOrBond': 'atom', 'whichAtmBnd': 'atom1', 'ANDorOR': 'ORtype'} 0.015496\n",
      "True {'action': 'add', 'atomOrBond': 'atom', 'whichAtmBnd': 'unIndexed', 'ANDorOR': 'ANDtype'} 0.051653\n",
      "True {'action': 'add', 'atomOrBond': 'atom', 'whichAtmBnd': 'unIndexed', 'ANDorOR': 'ORtype'} 0.154959\n",
      "True {'action': 'add', 'atomOrBond': 'bond', 'whichAtmBnd': 'unIndexed', 'ANDorOR': 'ANDtype'} 0.005682\n",
      "True {'action': 'add', 'atomOrBond': 'bond', 'whichAtmBnd': 'unIndexed', 'ANDorOR': 'ORtype'} 0.017045\n",
      "True {'action': 'delete', 'atomOrBond': 'atom', 'whichAtmBnd': 'atom1', 'ANDorOR': 'ANDtype'} 0.005165\n",
      "True {'action': 'delete', 'atomOrBond': 'atom', 'whichAtmBnd': 'atom1', 'ANDorOR': 'ORtype'} 0.015496\n",
      "True {'action': 'delete', 'atomOrBond': 'atom', 'whichAtmBnd': 'unIndexed', 'ANDorOR': 'ANDtype'} 0.051653\n",
      "True {'action': 'delete', 'atomOrBond': 'atom', 'whichAtmBnd': 'unIndexed', 'ANDorOR': 'ORtype'} 0.154959\n",
      "True {'action': 'delete', 'atomOrBond': 'bond', 'whichAtmBnd': 'unIndexed', 'ANDorOR': 'ANDtype'} 0.005682\n",
      "True {'action': 'delete', 'atomOrBond': 'bond', 'whichAtmBnd': 'unIndexed', 'ANDorOR': 'ORtype'} 0.017045\n",
      "True {'action': 'joinAtom', 'atomOrBond': 'atom', 'whichAtmBnd': 'atom1', 'ANDorOR': 'ORtype'} 0.015496\n",
      "True {'action': 'joinAtom', 'atomOrBond': 'atom', 'whichAtmBnd': 'unIndexed', 'ANDorOR': 'ORtype'} 0.154959\n",
      "True {'action': 'swap', 'atomOrBond': 'atom', 'whichAtmBnd': 'atom1', 'ANDorOR': 'ANDtype'} 0.005165\n",
      "True {'action': 'swap', 'atomOrBond': 'atom', 'whichAtmBnd': 'atom1', 'ANDorOR': 'ORtype'} 0.015496\n",
      "True {'action': 'swap', 'atomOrBond': 'atom', 'whichAtmBnd': 'unIndexed', 'ANDorOR': 'ANDtype'} 0.051653\n",
      "True {'action': 'swap', 'atomOrBond': 'atom', 'whichAtmBnd': 'unIndexed', 'ANDorOR': 'ORtype'} 0.154959\n",
      "True {'action': 'swap', 'atomOrBond': 'bond', 'whichAtmBnd': 'unIndexed', 'ANDorOR': 'ANDtype'} 0.005682\n",
      "True {'action': 'swap', 'atomOrBond': 'bond', 'whichAtmBnd': 'unIndexed', 'ANDorOR': 'ORtype'} 0.017045\n"
     ]
    }
   ],
   "source": [
    "print( len(moveDictdb))\n",
    "for moveDict in moveDictdb:\n",
    "    print( str(EnvMoveIsWellFormed(moveDict[0])), moveDict[0], moveDict[1])"
   ]
  },
  {
   "cell_type": "code",
   "execution_count": 21,
   "metadata": {
    "collapsed": false
   },
   "outputs": [],
   "source": [
    "def GetNwxfragMoveAtom( moveDict, Nwxfrag):\n",
    "    atomIdxStr = moveDict['whichAtmBnd'][4]\n",
    "    if atomIdxStr!='d':\n",
    "        return Nwxfrag.selectAtom( int(atomIdxStr))\n",
    "    indexedAtoms = Nwxfrag.getIndexedAtoms()\n",
    "    unIndexedAtoms = []\n",
    "    atoms = Nwxfrag.getAtoms()\n",
    "    for tryatom in atoms:\n",
    "        if tryatom not in indexedAtoms:\n",
    "            unIndexedAtoms.append( tryatom)\n",
    "    if len(unIndexedAtoms)>1:\n",
    "        return np.random.choice( unIndexedAtoms)\n",
    "    elif len(unIndexedAtoms)==1:\n",
    "        return unIndexedAtoms[0]\n",
    "    else:\n",
    "        return None"
   ]
  },
  {
   "cell_type": "code",
   "execution_count": 22,
   "metadata": {
    "collapsed": false
   },
   "outputs": [
    {
     "name": "stdout",
     "output_type": "stream",
     "text": [
      "[#8X2H0]-[#6](-[#1:1])(-[#7X4+1])-[#9] {'action': 'add', 'atomOrBond': 'atom', 'whichAtmBnd': 'unIndexed', 'ANDorOR': 'ORtype'}\n",
      "action : add\n",
      "atomOrBond : atom\n",
      "whichAtmBnd : unIndexed\n",
      "ANDorOR : ORtype\n",
      "None ['#9'] []\n"
     ]
    }
   ],
   "source": [
    "param = atomH3\n",
    "moveDict = moveDictdb[3][0]\n",
    "print( param.asSMIRKS(), moveDict )\n",
    "for key in moveDict.keys():\n",
    "    print( key, ':', moveDict[key] )\n",
    "changeAtom = GetNwxfragMoveAtom( moveDict, param)\n",
    "print( changeAtom.index, changeAtom.getORtypes(), changeAtom.getANDtypes() )"
   ]
  },
  {
   "cell_type": "code",
   "execution_count": 23,
   "metadata": {
    "collapsed": true
   },
   "outputs": [],
   "source": [
    "def GenerateNwxfragORtype( ComponentsWithWeights):\n",
    "    basetypeList = ComponentsWithWeights['Basetypes'][0]\n",
    "    #print( 'Basetypes:', ComponentsWithWeights['Basetypes'][0])\n",
    "    #print( 'Basetypes weights:', ComponentsWithWeights['Basetypes'][1])\n",
    "    if len(basetypeList)<1:\n",
    "        return None\n",
    "    newBasetype, prob = PickMoveItemWithProb( 'Basetypes', ComponentsWithWeights)\n",
    "    cumProb = prob\n",
    "    \n",
    "    ORtypeList = ComponentsWithWeights['ORdecs'][0]\n",
    "    #print( 'ORdecs:', ORtypeList)\n",
    "    #print( 'ORdecs weights:', ComponentsWithWeights['ORdecs'][1])\n",
    "    if len(ORtypeList)<1:\n",
    "        return newBasetype, prob\n",
    "    newORdecorator, prob = PickMoveItemWithProb( 'ORdecs', ComponentsWithWeights)\n",
    "    newORtype = newBasetype + newORdecorator\n",
    "    cumProb *= prob\n",
    "    return newORtype, prob"
   ]
  },
  {
   "cell_type": "code",
   "execution_count": 24,
   "metadata": {
    "collapsed": true
   },
   "outputs": [],
   "source": [
    "def GenerateNwxfragANDtype( ComponentsWithWeights):\n",
    "    ANDtypeList = ComponentsWithWeights['ANDdecs'][0]\n",
    "    #print( 'ANDdecs:', ANDtypeList)\n",
    "    #print( 'ANDdecs weights:', ComponentsWithWeights['ANDdecs'][1])\n",
    "    if len(ANDtypeList)<1:\n",
    "        return None\n",
    "    return PickMoveItemWithProb( 'ANDdecs', ComponentsWithWeights)"
   ]
  },
  {
   "cell_type": "code",
   "execution_count": 25,
   "metadata": {
    "collapsed": false
   },
   "outputs": [
    {
     "name": "stdout",
     "output_type": "stream",
     "text": [
      "atom ORtypes: ('#8X4', 0.16666666666666666)\n",
      "atom ORtypes: ('#8X4', 0.16666666666666666)\n",
      "atom ORtypes: ('#8X2', 0.16666666666666666)\n",
      "atom ANDtypes: ('+0', 0.5)\n",
      "atom ANDtypes: ('H0', 0.5)\n",
      "atom ANDtypes: ('+0', 0.5)\n",
      "bond ORtypes: ('-', 0.5)\n",
      "bond ORtypes: ('-', 0.5)\n",
      "bond ORtypes: ('~', 0.5)\n",
      "bond ANDtypes: ('@', 0.5)\n",
      "bond ANDtypes: ('@', 0.5)\n",
      "bond ANDtypes: ('@', 0.5)\n"
     ]
    }
   ],
   "source": [
    "# test GenerateNwxfragORtype and GenerateNwxfragANDtype\n",
    "nSamples = 3\n",
    "for i in range(0,nSamples):\n",
    "    print( 'atom ORtypes:', GenerateNwxfragORtype( masterComponentsWithWeights['atom']) )\n",
    "for i in range(0,nSamples):\n",
    "    print( 'atom ANDtypes:', GenerateNwxfragANDtype( masterComponentsWithWeights['atom']) )\n",
    "for i in range(0,nSamples):\n",
    "    print( 'bond ORtypes:', GenerateNwxfragORtype( masterComponentsWithWeights['bond']) )\n",
    "for i in range(0,nSamples):\n",
    "    print( 'bond ANDtypes:', GenerateNwxfragANDtype( masterComponentsWithWeights['bond']) )"
   ]
  },
  {
   "cell_type": "code",
   "execution_count": 26,
   "metadata": {
    "collapsed": false
   },
   "outputs": [],
   "source": [
    "def GetNwxfragChangeling( moveDict, Nwxfrag):\n",
    "    idxStr = moveDict['whichAtmBnd'][4]\n",
    "    atomOrBond = moveDict['atomOrBond']\n",
    "    if atomOrBond=='atom':\n",
    "        if idxStr!='d':\n",
    "            return Nwxfrag.selectAtom( int(idxStr))\n",
    "        # begin section to randomly pick an unIndexed atom; hopefully there will be a function for this\n",
    "        indexedAtoms = Nwxfrag.getIndexedAtoms()\n",
    "        unIndexedAtoms = []\n",
    "        atoms = Nwxfrag.getAtoms()\n",
    "        for tryatom in atoms:\n",
    "            if tryatom not in indexedAtoms:\n",
    "                unIndexedAtoms.append( tryatom)\n",
    "        if len(unIndexedAtoms)>1:\n",
    "            return np.random.choice( unIndexedAtoms)\n",
    "        elif len(unIndexedAtoms)==1:\n",
    "            return unIndexedAtoms[0]\n",
    "        # end section to randomly pick an unIndexed atom; hopefully there will be a function for this\n",
    "    if atomOrBond=='bond':\n",
    "        bondIdxToAtoms = { 'bond1' : (1,2), 'bond1' : (2,3), 'bond3' : (3,4),}\n",
    "        if idxStr!='d':\n",
    "            firstAtom = Nwxfrag.selectAtom( bondIdxToAtoms[moveDict['whichAtmBnd']][0] )\n",
    "            secondAtom = Nwxfrag.selectAtom( bondIdxToAtoms[moveDict['whichAtmBnd']][1] )\n",
    "            return Nwxfrag.selectBond( firstAtom, secondAtom)\n",
    "        # begin section to randomly pick an unIndexed bond; hopefully there will be a function for this\n",
    "        bonds = Nwxfrag.getBonds()\n",
    "        unIndexedBonds = []\n",
    "        for bond in bonds:\n",
    "            if bond[0].index==None or bond[1].index==None:\n",
    "                unIndexedBonds.append( bond )\n",
    "        if len(unIndexedBonds)==1:\n",
    "            return unIndexedBonds[0][2]\n",
    "        elif len(unIndexedBonds)>1:\n",
    "            listIdx = range( 0, len(unIndexedBonds) )\n",
    "            choice = np.random.choice( listIdx)\n",
    "            return unIndexedBonds[choice][2]\n",
    "        # end section to randomly pick an unIndexed bond; hopefully there will be a function for this\n",
    "        return None\n",
    "    else:\n",
    "        return None"
   ]
  },
  {
   "cell_type": "code",
   "execution_count": 27,
   "metadata": {
    "collapsed": false
   },
   "outputs": [
    {
     "name": "stdout",
     "output_type": "stream",
     "text": [
      "[#6](-[#1:1])(-[#7X4+1])(-[#8X2H0])-[#9] {'action': 'add', 'atomOrBond': 'bond', 'whichAtmBnd': 'unIndexed', 'ANDorOR': 'ORtype'}\n",
      "changeling properties: ['-'] []\n"
     ]
    }
   ],
   "source": [
    "# test GetNwxfragChangeling and AddToNwxfrag\n",
    "startParam = atomH3\n",
    "param = copy.deepcopy( startParam)\n",
    "moveDict = moveDictdb[5][0]\n",
    "print( param.asSMIRKS(), moveDict )\n",
    "#for key in moveDict.keys():\n",
    "#    print( key, ':', moveDict[key] )\n",
    "changeling = GetNwxfragChangeling( moveDict, param)\n",
    "#print( 'changeling properties:', changeling.index, changeling.getORtypes(), changeling.getANDtypes() )\n",
    "print( 'changeling properties:', changeling.getORtypes(), changeling.getANDtypes() )"
   ]
  },
  {
   "cell_type": "code",
   "execution_count": 28,
   "metadata": {
    "collapsed": true
   },
   "outputs": [],
   "source": [
    "def ProposeNewType( moveDict, ComponentsWithWeights):\n",
    "    #print( 'ProposeNewType moveDict:', moveDict )\n",
    "    atomOrBond = moveDict['atomOrBond']\n",
    "    if moveDict['ANDorOR']=='ORtype':\n",
    "        newPair = GenerateNwxfragORtype( ComponentsWithWeights[atomOrBond])\n",
    "    elif moveDict['ANDorOR']=='ANDtype':\n",
    "        newPair = GenerateNwxfragANDtype( ComponentsWithWeights[atomOrBond])\n",
    "    return newPair"
   ]
  },
  {
   "cell_type": "code",
   "execution_count": 29,
   "metadata": {
    "collapsed": false
   },
   "outputs": [
    {
     "name": "stdout",
     "output_type": "stream",
     "text": [
      "atom ANDtype : ('+0', 0.5)\n",
      "atom ORtype : ('#6X4', 0.16666666666666666)\n",
      "atom ANDtype : ('+0', 0.5)\n",
      "atom ORtype : ('#1', 0.16666666666666666)\n",
      "bond ANDtype : ('!@', 0.5)\n",
      "bond ORtype : ('-', 0.5)\n",
      "atom ANDtype : ('+0', 0.5)\n",
      "atom ORtype : ('#1X2', 0.16666666666666666)\n",
      "atom ANDtype : ('+0', 0.5)\n",
      "atom ORtype : ('#1X1', 0.16666666666666666)\n",
      "bond ANDtype : ('!@', 0.5)\n",
      "bond ORtype : ('~', 0.5)\n",
      "atom ORtype : ('#8X1', 0.16666666666666666)\n",
      "atom ORtype : ('#8', 0.16666666666666666)\n",
      "atom ANDtype : ('H0', 0.5)\n",
      "atom ORtype : ('#1X4', 0.16666666666666666)\n",
      "atom ANDtype : ('+0', 0.5)\n",
      "atom ORtype : ('#6H2', 0.041666666666666664)\n",
      "bond ANDtype : ('@', 0.5)\n",
      "bond ORtype : ('-', 0.5)\n"
     ]
    }
   ],
   "source": [
    "# test ProposeNewType\n",
    "for moveDict in moveDictdb:\n",
    "    print( moveDict[0]['atomOrBond'], moveDict[0]['ANDorOR'], ':',\n",
    "         ProposeNewType( moveDict[0], masterComponentsWithWeights))"
   ]
  },
  {
   "cell_type": "code",
   "execution_count": 30,
   "metadata": {
    "collapsed": false
   },
   "outputs": [],
   "source": [
    "def IsActionViable( moveDict, existing, proposal, msg):\n",
    "    action = moveDict['action']\n",
    "    #print('IsActionViable:  action:',action,'; existing types:',existing,'; proposed newType:',proposal)\n",
    "    if action=='add':\n",
    "        if proposal=='None':\n",
    "            print('proposed newType is null; will not add')\n",
    "            return False\n",
    "        if proposal in existing:\n",
    "            print('proposed newType is in existing list; will not add')\n",
    "            return False\n",
    "    elif action=='delete':\n",
    "        # ToDo: check to make sure not completely deleting whole atom which connects at least two others\n",
    "        if len(existing)<1:\n",
    "            #msg = 'existing list is already empty; will not delete'\n",
    "            #print('IsActionViable: msg is', msg)\n",
    "            print('existing list is already empty; will not delete')\n",
    "            return False\n",
    "        if len(existing)==1 and moveDict['whichAtmBnd'][4]!='d':\n",
    "            print('will not delete indexed atom or bond with only one type')\n",
    "            return False\n",
    "        if len(existing)==1 and moveDict['atomOrBond']=='bond':\n",
    "            print('will not delete last bond joining two atoms')\n",
    "            return False\n",
    "    elif action=='swap':\n",
    "        if len(existing)<1 or proposal=='None':\n",
    "            print('missing one of existing type or newType; will not swap')\n",
    "            return False\n",
    "        if len(existing)==1 and existing[0]==proposal:\n",
    "            print('Swapping identical types is pointless; will not swap')\n",
    "            return False\n",
    "    elif action=='joinAtom':\n",
    "        # ToDo: insert valence check (don't join to atom with full valence)\n",
    "        # ToDo: insert subst position check (don't join to beta substituent)\n",
    "        if len(existing)<1 or proposal=='None':\n",
    "            print('missing one of existing atom or new atom; will not join atom')\n",
    "            return False\n",
    "    return True"
   ]
  },
  {
   "cell_type": "code",
   "execution_count": 31,
   "metadata": {
    "collapsed": true
   },
   "outputs": [],
   "source": [
    "def SetNwxfragNewList( moveDict, changeling, newList):\n",
    "    #print( 'SetNwxfragNewList newList:', newList )\n",
    "    if moveDict['ANDorOR']=='ORtype':\n",
    "        #print( 'SetNwxfragNewList old type:', changeling.getORtypes() )\n",
    "        changeling.setORtypes( newList)\n",
    "        #print( 'SetNwxfragNewList new type:', changeling.getORtypes() )\n",
    "        return True\n",
    "    elif moveDict['ANDorOR']=='ANDtype':\n",
    "        #print( 'SetNwxfragNewList old type:', changeling.getANDtypes() )\n",
    "        changeling.setANDtypes( newList)\n",
    "        #print( 'SetNwxfragNewList new type:', changeling.getANDtypes() )\n",
    "        return True\n",
    "    else:\n",
    "        return False"
   ]
  },
  {
   "cell_type": "code",
   "execution_count": 32,
   "metadata": {
    "collapsed": false
   },
   "outputs": [],
   "source": [
    "def EffectMoveOnNwxfragList( moveDict, frag, changeling, existing, proposal):\n",
    "    action = moveDict['action']\n",
    "    #print('EffectMoveOnNwxfragList:  action:',action,'; existing types:',existing,'; proposed newType:',proposal)\n",
    "    newList = existing\n",
    "    #\n",
    "    # begin section for action delete and swap (swap is delete followed by add)\n",
    "    # begin with special case for actually removing an atom completely, ie delete the last atom ORtype\n",
    "    if action=='delete' and len(newList)==1 and moveDict['atomOrBond']=='atom'and moveDict['ANDorOR']=='ORtype':\n",
    "        # for time being just remove the whole thing; worry about detailed balance later\n",
    "        onlyEmpty = False\n",
    "        frag.removeAtom( changeling, onlyEmpty)\n",
    "        return True\n",
    "    # now the more general case for removing the last type from a list: make an empty list\n",
    "    if action=='delete' or action=='swap':\n",
    "        if len(newList)==1:\n",
    "            newList = []\n",
    "    # now to remove a random item from a list of more than one\n",
    "        else:\n",
    "            listOfIndexes = range(0, len( newList) )\n",
    "            idxToDelete = np.random.choice(listOfIndexes)\n",
    "            #print('EffectMoveOnNwxfragList delete index %d from list', newList)\n",
    "            del newList[idxToDelete]\n",
    "            #print('EffectMoveOnNwxfragList list after delete is', newList)\n",
    "    #\n",
    "    # begin section for action add and swap (swap is delete followed by add)\n",
    "    if action=='add' or action=='swap':\n",
    "        newList.append( proposal)\n",
    "        #print('EffectMoveOnNwxfragList about to set newList:', newList)\n",
    "        if not SetNwxfragNewList( moveDict, changeling, newList):\n",
    "            print('EffectMoveOnNwxfragList newList failed:', newList)\n",
    "            return False\n",
    "    #\n",
    "    return True"
   ]
  },
  {
   "cell_type": "code",
   "execution_count": 33,
   "metadata": {
    "collapsed": true
   },
   "outputs": [],
   "source": [
    "def EffectJoinNewNwxfragAtom( moveDict, frag, changeling, existing, proposal):\n",
    "    print('EffectJoinNewNwxfragAtom: attaching [', proposal,'] to existing atom', existing)\n",
    "    frag.addAtom( changeling, ['~'], None, [proposal], None, None)\n",
    "    return True"
   ]
  },
  {
   "cell_type": "code",
   "execution_count": 34,
   "metadata": {
    "collapsed": false
   },
   "outputs": [],
   "source": [
    "def MoveNwxfrag( frag, moveDict, weightdParts, msg=''):\n",
    "    '''Modifies an OpenForcefield Networkx molecular fragment by applying a move described by\n",
    "    a moveDict (dict of proposed chem env micro-moves), based on weighted random choices of\n",
    "    chemical components in weightdParts. If the proposed move is not viable, it returns False.\n",
    "    Arguments:\n",
    "        frag: an OpenForcefield Networkx molecular fragment (representing a force field parameter)\n",
    "        moveDict: a list of strings constituting a sequence of proposed chem env micro-moves\n",
    "        weightdParts: dictionary of chemical components with probabilities of being chosen\n",
    "        msg: an informative message about the nature of the problem\n",
    "    Returns True unless it finds a problem'''\n",
    "    #print( frag.asSMIRKS(), moveDict )\n",
    "    \n",
    "    # stage 1: get the atom or bond we are going to work on\n",
    "    atomOrBond = moveDict['atomOrBond']\n",
    "    changeling = GetNwxfragChangeling( moveDict, param)\n",
    "    if changeling==None:\n",
    "        msg = 'MoveNwxfrag: changeling is None, returning false'\n",
    "        return False\n",
    "    #print( 'MoveNwxfrag changeling:', changeling.getORtypes(), changeling.getANDtypes() )\n",
    "    \n",
    "    # stage 2: get the current list we need to modify\n",
    "    ANDorOR = moveDict['ANDorOR']\n",
    "    if ANDorOR=='ORtype':\n",
    "        currlist = changeling.getORtypes()\n",
    "        #print('MoveNwxfrag got ORtypes:', currlist)\n",
    "    elif ANDorOR=='ANDtype':\n",
    "        currlist = changeling.getANDtypes()\n",
    "        #print('MoveNwxfrag got ANDtypes:', currlist)\n",
    "    else:\n",
    "        msg = 'MoveNwxfrag: could not retrieve requested ORtypes or ANDtypes'\n",
    "        return False\n",
    "    \n",
    "    # stage 3: get the component list and associated weights\n",
    "    proposed = ProposeNewType( moveDict, masterComponentsWithWeights)\n",
    "    if proposed==None:\n",
    "        msg = 'MoveNwxfrag: proposed (newType, probability) is None, returning false'\n",
    "        return False\n",
    "    #print('MoveNwxfrag proposed (newType probability):', proposed)\n",
    "    \n",
    "    #stage 4: Test viability of desired action\n",
    "    mesg = ''\n",
    "    IsViable = IsActionViable( moveDict, currlist, proposed[0], mesg)\n",
    "    if not IsViable:\n",
    "        msg = 'MoveNwxfrag: proposal is not viable, returning false. Details:\\n'+mesg\n",
    "        #print('MoveNwxfrag returning msg:', msg)\n",
    "        return False\n",
    "    #print('MoveNwxfrag proposed action %s is viable ' % moveDict['action'])\n",
    "    \n",
    "    #stage 5: perform action\n",
    "    if moveDict['action']!='joinAtom':\n",
    "        EffectMoveOnNwxfragList( moveDict, frag, changeling, currlist, proposed[0])\n",
    "    else:\n",
    "        EffectJoinNewNwxfragAtom( moveDict, frag, changeling, currlist, proposed[0])\n",
    "    \n",
    "    return True"
   ]
  },
  {
   "cell_type": "code",
   "execution_count": 35,
   "metadata": {
    "collapsed": false
   },
   "outputs": [
    {
     "name": "stdout",
     "output_type": "stream",
     "text": [
      "EffectJoinNewNwxfragAtom: attaching [ #6X1 ] to existing atom ['#7X4+1']\n",
      "move worked, new SMIRKS is: [#6](-[#1:1])(-[#7X4+1]~[#6X1])(-[#8X2H0])-[#9]\n"
     ]
    }
   ],
   "source": [
    "# test MoveNwxfrag\n",
    "startParam = atomH3\n",
    "param = copy.deepcopy( startParam)\n",
    "moveDict = moveDictdb[13][0]\n",
    "#print( param.asSMIRKS(), moveDict )\n",
    "msg = ''\n",
    "if not MoveNwxfrag( param, moveDict, masterComponentsWithWeights, msg):\n",
    "    print('move failed, message is:', msg)\n",
    "else:\n",
    "    print('move worked, new SMIRKS is:', param.asSMIRKS())"
   ]
  },
  {
   "cell_type": "code",
   "execution_count": 36,
   "metadata": {
    "collapsed": false,
    "scrolled": false
   },
   "outputs": [
    {
     "name": "stdout",
     "output_type": "stream",
     "text": [
      "Starting with [#8X2H0]-[#6](-[#1:1])(-[#7X4+1])-[#9]\n",
      "\n",
      "working on  0      add atom      atom1 ANDtype :\n",
      "  Succeeded : [#8X2H0]-[#6](-[#1;H0:1])(-[#7X4+1])-[#9]\n",
      "\n",
      "working on  1      add atom      atom1  ORtype :\n",
      "  Succeeded : [#7X4+1]-[#6](-[#1,#8:1])(-[#8X2H0])-[#9]\n",
      "\n",
      "working on  2      add atom  unIndexed ANDtype :\n",
      "  Succeeded : [#7X4+1]-[#6](-[#1:1])(-[#8X2H0])-[#9;H0]\n",
      "\n",
      "working on  3      add atom  unIndexed  ORtype :\n",
      "  Succeeded : [#6,#6H2](-[#1:1])(-[#7X4+1])(-[#8X2H0])-[#9]\n",
      "\n",
      "working on  4      add bond  unIndexed ANDtype :\n",
      "  Succeeded : [#1:1]-[#6](-;@[#7X4+1])(-[#8X2H0])-[#9]\n",
      "\n",
      "working on  5      add bond  unIndexed  ORtype :\n",
      "  Succeeded : [#8X2H0]-[#6](-,~[#1:1])(-[#7X4+1])-[#9]\n",
      "\n",
      "working on  6   delete atom      atom1 ANDtype :\n",
      "existing list is already empty; will not delete\n",
      "  Failed\n",
      "\n",
      "working on  7   delete atom      atom1  ORtype :\n",
      "will not delete indexed atom or bond with only one type\n",
      "  Failed\n",
      "\n",
      "working on  8   delete atom  unIndexed ANDtype :\n",
      "existing list is already empty; will not delete\n",
      "  Failed\n",
      "\n",
      "working on  9   delete atom  unIndexed  ORtype :\n",
      "  Succeeded : [#7X4+1]-[#6](-[#1:1])-[#9]\n",
      "\n",
      "working on 10   delete bond  unIndexed ANDtype :\n",
      "existing list is already empty; will not delete\n",
      "  Failed\n",
      "\n",
      "working on 11   delete bond  unIndexed  ORtype :\n",
      "will not delete last bond joining two atoms\n",
      "  Failed\n",
      "\n",
      "working on 12 joinAtom atom      atom1  ORtype :\n",
      "EffectJoinNewNwxfragAtom: attaching [ #8 ] to existing atom ['#1']\n",
      "  Succeeded : [#7X4+1]-[#6](-[#1:1]~[#8])(-[#8X2H0])-[#9]\n",
      "\n",
      "working on 13 joinAtom atom  unIndexed  ORtype :\n",
      "EffectJoinNewNwxfragAtom: attaching [ #8X1 ] to existing atom ['#9']\n",
      "  Succeeded : [#7X4+1]-[#6](-[#1:1])(-[#8X2H0])-[#9]~[#8X1]\n",
      "\n",
      "working on 14     swap atom      atom1 ANDtype :\n",
      "missing one of existing type or newType; will not swap\n",
      "  Failed\n",
      "\n",
      "working on 15     swap atom      atom1  ORtype :\n",
      "  Succeeded : [#8X2H0]-[#6](-[#1X2:1])(-[#7X4+1])-[#9]\n",
      "\n",
      "working on 16     swap atom  unIndexed ANDtype :\n",
      "missing one of existing type or newType; will not swap\n",
      "  Failed\n",
      "\n",
      "working on 17     swap atom  unIndexed  ORtype :\n",
      "  Succeeded : [#8X2H0]-[#1X1](-[#1:1])(-[#7X4+1])-[#9]\n",
      "\n",
      "working on 18     swap bond  unIndexed ANDtype :\n",
      "missing one of existing type or newType; will not swap\n",
      "  Failed\n",
      "\n",
      "working on 19     swap bond  unIndexed  ORtype :\n",
      "Swapping identical types is pointless; will not swap\n",
      "  Failed\n"
     ]
    }
   ],
   "source": [
    "# test MoveNwxfrag\n",
    "startParam = atomH3\n",
    "param = copy.deepcopy( startParam)\n",
    "print( 'Starting with', param.asSMIRKS())\n",
    "#print( len(moveDictdb) )\n",
    "for i, moveDict in enumerate( moveDictdb):\n",
    "    param = copy.deepcopy( startParam)\n",
    "    moves =  moveDict[0]\n",
    "    print( '\\nworking on %2d %8s %4s %10s %7s :' % (i, moves['action'], moves['atomOrBond'], moves['whichAtmBnd'], moves['ANDorOR']))\n",
    "    if not MoveNwxfrag( param, moves, masterComponentsWithWeights, msg):\n",
    "        print('  Failed')\n",
    "    else:\n",
    "        print('  Succeeded : %s' % ( param.asSMIRKS()))"
   ]
  },
  {
   "cell_type": "code",
   "execution_count": null,
   "metadata": {
    "collapsed": true
   },
   "outputs": [],
   "source": []
  }
 ],
 "metadata": {
  "kernelspec": {
   "display_name": "Python 2",
   "language": "python",
   "name": "python2"
  },
  "language_info": {
   "codemirror_mode": {
    "name": "ipython",
    "version": 2
   },
   "file_extension": ".py",
   "mimetype": "text/x-python",
   "name": "python",
   "nbconvert_exporter": "python",
   "pygments_lexer": "ipython2",
   "version": "2.7.11"
  }
 },
 "nbformat": 4,
 "nbformat_minor": 0
}
