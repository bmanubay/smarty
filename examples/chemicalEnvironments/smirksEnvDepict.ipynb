{
 "cells": [
  {
   "cell_type": "code",
   "execution_count": 1,
   "metadata": {
    "collapsed": false
   },
   "outputs": [],
   "source": [
    "#!/usr/bin/env python\n",
    "################################################################\n",
    "#  Copyright (C) 2015 OpenEye Scientific Software, Inc.\n",
    "################################################################\n",
    "from __future__ import print_function\n",
    "import os, sys\n",
    "import pandas as pd\n",
    "import scipy.stats as stats\n",
    "import scipy as sci\n",
    "import numpy as np\n",
    "import pylab\n",
    "get_ipython().magic(u'matplotlib inline')"
   ]
  },
  {
   "cell_type": "markdown",
   "metadata": {},
   "source": [
    "### OpenEye section: load up relevant libs and depiction functions\n",
    "\n",
    "We will use depictMatch, which highlights the SMARTS matches but not yet the SMIRKS map indices"
   ]
  },
  {
   "cell_type": "code",
   "execution_count": 2,
   "metadata": {
    "collapsed": true
   },
   "outputs": [],
   "source": [
    "import openeye.oechem as oechem\n",
    "import openeye.oedepict as oedepict\n",
    "from IPython.display import display"
   ]
  },
  {
   "cell_type": "code",
   "execution_count": 3,
   "metadata": {
    "collapsed": false
   },
   "outputs": [],
   "source": [
    "def depictMatch(mol, match, width=500, height=200):\n",
    "    from IPython.display import Image\n",
    "    dopt = oedepict.OEPrepareDepictionOptions()\n",
    "    dopt.SetDepictOrientation( oedepict.OEDepictOrientation_Horizontal)\n",
    "    dopt.SetSuppressHydrogens(False)\n",
    "    oedepict.OEPrepareDepiction(mol, dopt)\n",
    "    opts = oedepict.OE2DMolDisplayOptions(width, height, oedepict.OEScale_AutoScale)\n",
    "    opts.SetTitleLocation(oedepict.OETitleLocation_Bottom)\n",
    "    disp = oedepict.OE2DMolDisplay(mol, opts)\n",
    "    hstyle = oedepict.OEHighlightStyle_Color\n",
    "    hcolor = oechem.OEColor(oechem.OEDarkGreen)\n",
    "    oedepict.OEAddHighlighting(disp, hcolor, hstyle, match)\n",
    "    ofs = oechem.oeosstream()\n",
    "    oedepict.OERenderMolecule(ofs, 'png', disp)\n",
    "    ofs.flush()\n",
    "    return Image(data = \"\".join(ofs.str()))"
   ]
  },
  {
   "cell_type": "markdown",
   "metadata": {},
   "source": [
    "### Load lib for chemical environments\n",
    "\n",
    "Note full path to the library over in the smarty git tree"
   ]
  },
  {
   "cell_type": "code",
   "execution_count": 4,
   "metadata": {
    "collapsed": true
   },
   "outputs": [],
   "source": [
    "import imp\n",
    "smirky = imp.load_source('environment','../../smarty/environment.py')"
   ]
  },
  {
   "cell_type": "markdown",
   "metadata": {},
   "source": [
    "### Chemical groups we might use"
   ]
  },
  {
   "cell_type": "code",
   "execution_count": 5,
   "metadata": {
    "collapsed": true
   },
   "outputs": [],
   "source": [
    "chemGroups = [ ('ewg1', '[#7,#8!-1,#16!-1,F,Cl,Br,I]'),\n",
    "               ('ewg1di', '[#7!X1,#8!X1,#16!X1]') ]"
   ]
  },
  {
   "cell_type": "markdown",
   "metadata": {},
   "source": [
    "### initialize a torsion with brute force lists for atoms and bonds"
   ]
  },
  {
   "cell_type": "code",
   "execution_count": 6,
   "metadata": {
    "collapsed": false
   },
   "outputs": [
    {
     "name": "stdout",
     "output_type": "stream",
     "text": [
      "[#6;X4:1]!@,!#[#6;X4:2]=,:,-;@[#6;X4:3]-[#6;X4:4]\n"
     ]
    }
   ],
   "source": [
    "#torsionEnv1 = smirky.TorsionChemicalEnvironment([['#6'], ['X4']], [['-'], None], [['#6'], ['X4']], [['-'], None], [['#6'], ['X4']], [['-'], None], [['#6'], ['X4']])\n",
    "#torsionEnv1 = smirky.TorsionChemicalEnvironment([['#6'], ['X4']], [['!#', '!@'], None], [['#6'], ['X4']], [None,None], [['#6'], ['X4']], [['-'], None], [['#6'], ['X4']])\n",
    "torsionEnv1 = smirky.TorsionChemicalEnvironment([['#6'], ['X4']], [['!#', '!@'], None], [['#6'], ['X4']], [['-',':','='],['@']], [['#6'], ['X4']], [['-'], None], [['#6'], ['X4']])\n",
    "print( torsionEnv1.asSMIRKS() )"
   ]
  },
  {
   "cell_type": "markdown",
   "metadata": {},
   "source": [
    "### torsions from atom and bond sublists"
   ]
  },
  {
   "cell_type": "code",
   "execution_count": 7,
   "metadata": {
    "collapsed": false
   },
   "outputs": [],
   "source": [
    "# Sublists\n",
    "A_any = [None,None]\n",
    "A_C = [ ['#6'], None]\n",
    "A_Ctet = [ ['#6X4'], None]\n",
    "A_O = [ ['#8'], None]\n",
    "A_OEth = [ ['#8X2'], ['H0','+0']]\n",
    "A_OH = [ ['#8X2'], ['H1','+0'] ]\n",
    "A_H = [ ['H'], None]\n",
    "Bsngl = [ ['-'], None]\n",
    "BnoRing = [ ['!@'], None]\n",
    "B_any = [ None, None]"
   ]
  },
  {
   "cell_type": "code",
   "execution_count": 8,
   "metadata": {
    "collapsed": false
   },
   "outputs": [
    {
     "name": "stdout",
     "output_type": "stream",
     "text": [
      "[#8X2;H0;+0:1]~[#6X4:2]-[#8:3]~[*:4]\n"
     ]
    }
   ],
   "source": [
    "# torsions from sublists\n",
    "torsionEnv2 = smirky.TorsionChemicalEnvironment( A_Ctet,B_any,A_Ctet,Bsngl,A_OH,B_any,A_any )\n",
    "torsionEnv3 = smirky.TorsionChemicalEnvironment( A_OEth,B_any,A_Ctet,Bsngl,A_OH,B_any,A_any )\n",
    "torsionEnv4 = smirky.TorsionChemicalEnvironment( A_OEth,B_any,A_Ctet,Bsngl,A_O,B_any,A_any )\n",
    "print( torsionEnv4.asSMIRKS() )"
   ]
  },
  {
   "cell_type": "code",
   "execution_count": 9,
   "metadata": {
    "collapsed": false
   },
   "outputs": [
    {
     "name": "stdout",
     "output_type": "stream",
     "text": [
      "[#6X4:1]~[#6X4:2]!@[#6X4:3]\n"
     ]
    }
   ],
   "source": [
    "# angles from sublists and explicit lists\n",
    "angEnv1 = smirky.AngleChemicalEnvironment( A_OEth,B_any,A_Ctet,Bsngl,A_OH)\n",
    "angEnv2 = smirky.AngleChemicalEnvironment( A_Ctet,B_any,A_Ctet,Bsngl,A_Ctet)\n",
    "angEnv3 = smirky.AngleChemicalEnvironment( A_Ctet,B_any,A_Ctet,BnoRing,A_Ctet)\n",
    "print( angEnv3.asSMIRKS() )"
   ]
  },
  {
   "cell_type": "code",
   "execution_count": 10,
   "metadata": {
    "collapsed": false
   },
   "outputs": [],
   "source": [
    "Smarts = angEnv3.asSMIRKS()\n",
    "modSmarts = oechem.OESmartsLexReplace( Smarts, chemGroups)\n",
    "if Smarts != modSmarts:\n",
    "    print(\"orig     smarts: %s\\nmodified smarts: %s\" % (Smarts, modSmarts))\n",
    "qmol = oechem.OEQMol()\n",
    "if not oechem.OEParseSmarts( qmol, modSmarts ):\n",
    "    print( 'OEParseSmarts failed')\n",
    "ss = oechem.OESubSearch( qmol)"
   ]
  },
  {
   "cell_type": "code",
   "execution_count": 11,
   "metadata": {
    "collapsed": false
   },
   "outputs": [],
   "source": [
    "fileprefix= 'AlkEthOH_dvrs1'\n",
    "ifs = oechem.oemolistream(fileprefix+'.oeb')\n",
    "#ofs = oechem.oemolostream(fileprefix+'_filt1.smi')"
   ]
  },
  {
   "cell_type": "code",
   "execution_count": 12,
   "metadata": {
    "collapsed": false,
    "scrolled": false
   },
   "outputs": [
    {
     "data": {
      "image/png": "[encoded data removed]",
      "text/plain": [
       "<IPython.core.display.Image object>"
      ]
     },
     "metadata": {},
     "output_type": "display_data"
    },
    {
     "name": "stdout",
     "output_type": "stream",
     "text": [
      "2 3 6 \n",
      "1 2 3 "
     ]
    }
   ],
   "source": [
    "mol = oechem.OEMol()\n",
    "for mol in ifs.GetOEMols():\n",
    "    goodMol = True\n",
    "    oechem.OEPrepareSearch(mol, ss)\n",
    "    unique = True\n",
    "    for match in ss.Match(mol, unique):\n",
    "        display( depictMatch(mol, match))\n",
    "        for ma in match.GetAtoms():\n",
    "            print(ma.target.GetIdx(), end=\" \")\n",
    "            #print(ma.pattern.GetIdx(), end=\" \")\n",
    "        print('')\n",
    "        for ma in match.GetAtoms():\n",
    "            print(ma.pattern.GetMapIdx(), end=\" \")"
   ]
  },
  {
   "cell_type": "code",
   "execution_count": 13,
   "metadata": {
    "collapsed": false
   },
   "outputs": [],
   "source": [
    "ifs.close()\n",
    "#ofs.close()"
   ]
  },
  {
   "cell_type": "code",
   "execution_count": null,
   "metadata": {
    "collapsed": false
   },
   "outputs": [],
   "source": []
  }
 ],
 "metadata": {
  "kernelspec": {
   "display_name": "Python 2",
   "language": "python",
   "name": "python2"
  },
  "language_info": {
   "codemirror_mode": {
    "name": "ipython",
    "version": 2
   },
   "file_extension": ".py",
   "mimetype": "text/x-python",
   "name": "python",
   "nbconvert_exporter": "python",
   "pygments_lexer": "ipython2",
   "version": "2.7.11"
  }
 },
 "nbformat": 4,
 "nbformat_minor": 0
}
